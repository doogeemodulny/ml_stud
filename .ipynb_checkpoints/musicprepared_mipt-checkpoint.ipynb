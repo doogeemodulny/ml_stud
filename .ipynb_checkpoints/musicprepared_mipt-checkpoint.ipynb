{
 "cells": [
  {
   "cell_type": "code",
   "execution_count": 121,
   "id": "4ad558d6-3867-4f0e-9042-ecb765af2ae2",
   "metadata": {},
   "outputs": [],
   "source": [
    "import pandas as pd\n",
    "import numpy as np\n",
    "import matplotlib.pyplot as plt\n",
    "import torch\n",
    "from torch import nn\n",
    "from sklearn.model_selection import train_test_split\n",
    "from sklearn.preprocessing import StandardScaler"
   ]
  },
  {
   "cell_type": "code",
   "execution_count": 267,
   "id": "2b3d642d-f3cd-4f01-9738-da96d32c00b6",
   "metadata": {},
   "outputs": [
    {
     "data": {
      "text/html": [
       "<div>\n",
       "<style scoped>\n",
       "    .dataframe tbody tr th:only-of-type {\n",
       "        vertical-align: middle;\n",
       "    }\n",
       "\n",
       "    .dataframe tbody tr th {\n",
       "        vertical-align: top;\n",
       "    }\n",
       "\n",
       "    .dataframe thead th {\n",
       "        text-align: right;\n",
       "    }\n",
       "</style>\n",
       "<table border=\"1\" class=\"dataframe\">\n",
       "  <thead>\n",
       "    <tr style=\"text-align: right;\">\n",
       "      <th></th>\n",
       "      <th>popularity</th>\n",
       "      <th>duration_ms</th>\n",
       "      <th>explicit</th>\n",
       "      <th>danceability</th>\n",
       "      <th>energy</th>\n",
       "      <th>key</th>\n",
       "      <th>loudness</th>\n",
       "      <th>mode</th>\n",
       "      <th>speechiness</th>\n",
       "      <th>acousticness</th>\n",
       "      <th>instrumentalness</th>\n",
       "      <th>liveness</th>\n",
       "      <th>valence</th>\n",
       "      <th>tempo</th>\n",
       "      <th>time_signature</th>\n",
       "      <th>track_genre</th>\n",
       "    </tr>\n",
       "  </thead>\n",
       "  <tbody>\n",
       "    <tr>\n",
       "      <th>0</th>\n",
       "      <td>77</td>\n",
       "      <td>230613</td>\n",
       "      <td>False</td>\n",
       "      <td>0.509</td>\n",
       "      <td>0.448</td>\n",
       "      <td>4</td>\n",
       "      <td>-7.552</td>\n",
       "      <td>0</td>\n",
       "      <td>0.0357</td>\n",
       "      <td>0.00713</td>\n",
       "      <td>0.013700</td>\n",
       "      <td>0.2440</td>\n",
       "      <td>0.221</td>\n",
       "      <td>156.909</td>\n",
       "      <td>3</td>\n",
       "      <td>0.0</td>\n",
       "    </tr>\n",
       "    <tr>\n",
       "      <th>1</th>\n",
       "      <td>79</td>\n",
       "      <td>208760</td>\n",
       "      <td>False</td>\n",
       "      <td>0.636</td>\n",
       "      <td>0.676</td>\n",
       "      <td>2</td>\n",
       "      <td>-3.442</td>\n",
       "      <td>1</td>\n",
       "      <td>0.0263</td>\n",
       "      <td>0.08070</td>\n",
       "      <td>0.000000</td>\n",
       "      <td>0.0831</td>\n",
       "      <td>0.273</td>\n",
       "      <td>113.980</td>\n",
       "      <td>4</td>\n",
       "      <td>0.0</td>\n",
       "    </tr>\n",
       "    <tr>\n",
       "      <th>2</th>\n",
       "      <td>76</td>\n",
       "      <td>180690</td>\n",
       "      <td>False</td>\n",
       "      <td>0.573</td>\n",
       "      <td>0.539</td>\n",
       "      <td>2</td>\n",
       "      <td>-6.091</td>\n",
       "      <td>0</td>\n",
       "      <td>0.0322</td>\n",
       "      <td>0.01620</td>\n",
       "      <td>0.000012</td>\n",
       "      <td>0.1050</td>\n",
       "      <td>0.390</td>\n",
       "      <td>75.012</td>\n",
       "      <td>4</td>\n",
       "      <td>0.0</td>\n",
       "    </tr>\n",
       "    <tr>\n",
       "      <th>3</th>\n",
       "      <td>84</td>\n",
       "      <td>232106</td>\n",
       "      <td>False</td>\n",
       "      <td>0.743</td>\n",
       "      <td>0.446</td>\n",
       "      <td>4</td>\n",
       "      <td>-7.807</td>\n",
       "      <td>0</td>\n",
       "      <td>0.0683</td>\n",
       "      <td>0.00390</td>\n",
       "      <td>0.118000</td>\n",
       "      <td>0.3370</td>\n",
       "      <td>0.278</td>\n",
       "      <td>123.596</td>\n",
       "      <td>4</td>\n",
       "      <td>0.0</td>\n",
       "    </tr>\n",
       "    <tr>\n",
       "      <th>4</th>\n",
       "      <td>76</td>\n",
       "      <td>225026</td>\n",
       "      <td>False</td>\n",
       "      <td>0.572</td>\n",
       "      <td>0.214</td>\n",
       "      <td>7</td>\n",
       "      <td>-15.625</td>\n",
       "      <td>1</td>\n",
       "      <td>0.0293</td>\n",
       "      <td>0.64900</td>\n",
       "      <td>0.129000</td>\n",
       "      <td>0.1250</td>\n",
       "      <td>0.485</td>\n",
       "      <td>95.542</td>\n",
       "      <td>4</td>\n",
       "      <td>0.0</td>\n",
       "    </tr>\n",
       "  </tbody>\n",
       "</table>\n",
       "</div>"
      ],
      "text/plain": [
       "   popularity  duration_ms  explicit  danceability  energy  key  loudness  \\\n",
       "0          77       230613     False         0.509   0.448    4    -7.552   \n",
       "1          79       208760     False         0.636   0.676    2    -3.442   \n",
       "2          76       180690     False         0.573   0.539    2    -6.091   \n",
       "3          84       232106     False         0.743   0.446    4    -7.807   \n",
       "4          76       225026     False         0.572   0.214    7   -15.625   \n",
       "\n",
       "   mode  speechiness  acousticness  instrumentalness  liveness  valence  \\\n",
       "0     0       0.0357       0.00713          0.013700    0.2440    0.221   \n",
       "1     1       0.0263       0.08070          0.000000    0.0831    0.273   \n",
       "2     0       0.0322       0.01620          0.000012    0.1050    0.390   \n",
       "3     0       0.0683       0.00390          0.118000    0.3370    0.278   \n",
       "4     1       0.0293       0.64900          0.129000    0.1250    0.485   \n",
       "\n",
       "     tempo  time_signature  track_genre  \n",
       "0  156.909               3          0.0  \n",
       "1  113.980               4          0.0  \n",
       "2   75.012               4          0.0  \n",
       "3  123.596               4          0.0  \n",
       "4   95.542               4          0.0  "
      ]
     },
     "execution_count": 267,
     "metadata": {},
     "output_type": "execute_result"
    }
   ],
   "source": [
    "df = pd.read_csv(\"music_prepared.csv\")\n",
    "df.head()"
   ]
  },
  {
   "cell_type": "markdown",
   "id": "4017eb3e-9df2-4814-81e5-15038ea22b89",
   "metadata": {},
   "source": [
    "#### Целевой признак popularity.\n",
    "\n",
    " 1) Считайте данные через pandas\n",
    "\n",
    " 2) Преобразуйте признак explicit в бинарный вид\n",
    "\n",
    " 3) Сделайте разбиение на обучение и тест с соотношением 80/20 и random_state=1.\n",
    "\n",
    " 4) Масштабируйте данные через стандартизацию\n",
    "\n",
    " 5) Переведите признаки и целевые значения в тензоры."
   ]
  },
  {
   "cell_type": "code",
   "execution_count": 268,
   "id": "b6a4179a-0a80-46ae-b025-4f272955901a",
   "metadata": {},
   "outputs": [
    {
     "data": {
      "text/html": [
       "<div>\n",
       "<style scoped>\n",
       "    .dataframe tbody tr th:only-of-type {\n",
       "        vertical-align: middle;\n",
       "    }\n",
       "\n",
       "    .dataframe tbody tr th {\n",
       "        vertical-align: top;\n",
       "    }\n",
       "\n",
       "    .dataframe thead th {\n",
       "        text-align: right;\n",
       "    }\n",
       "</style>\n",
       "<table border=\"1\" class=\"dataframe\">\n",
       "  <thead>\n",
       "    <tr style=\"text-align: right;\">\n",
       "      <th></th>\n",
       "      <th>popularity</th>\n",
       "      <th>duration_ms</th>\n",
       "      <th>explicit</th>\n",
       "      <th>danceability</th>\n",
       "      <th>energy</th>\n",
       "      <th>key</th>\n",
       "      <th>loudness</th>\n",
       "      <th>mode</th>\n",
       "      <th>speechiness</th>\n",
       "      <th>acousticness</th>\n",
       "      <th>instrumentalness</th>\n",
       "      <th>liveness</th>\n",
       "      <th>valence</th>\n",
       "      <th>tempo</th>\n",
       "      <th>time_signature</th>\n",
       "      <th>track_genre</th>\n",
       "    </tr>\n",
       "  </thead>\n",
       "  <tbody>\n",
       "    <tr>\n",
       "      <th>0</th>\n",
       "      <td>77</td>\n",
       "      <td>230613</td>\n",
       "      <td>0.0</td>\n",
       "      <td>0.509</td>\n",
       "      <td>0.448</td>\n",
       "      <td>4</td>\n",
       "      <td>-7.552</td>\n",
       "      <td>0</td>\n",
       "      <td>0.0357</td>\n",
       "      <td>0.00713</td>\n",
       "      <td>0.013700</td>\n",
       "      <td>0.2440</td>\n",
       "      <td>0.221</td>\n",
       "      <td>156.909</td>\n",
       "      <td>3</td>\n",
       "      <td>0.0</td>\n",
       "    </tr>\n",
       "    <tr>\n",
       "      <th>1</th>\n",
       "      <td>79</td>\n",
       "      <td>208760</td>\n",
       "      <td>0.0</td>\n",
       "      <td>0.636</td>\n",
       "      <td>0.676</td>\n",
       "      <td>2</td>\n",
       "      <td>-3.442</td>\n",
       "      <td>1</td>\n",
       "      <td>0.0263</td>\n",
       "      <td>0.08070</td>\n",
       "      <td>0.000000</td>\n",
       "      <td>0.0831</td>\n",
       "      <td>0.273</td>\n",
       "      <td>113.980</td>\n",
       "      <td>4</td>\n",
       "      <td>0.0</td>\n",
       "    </tr>\n",
       "    <tr>\n",
       "      <th>2</th>\n",
       "      <td>76</td>\n",
       "      <td>180690</td>\n",
       "      <td>0.0</td>\n",
       "      <td>0.573</td>\n",
       "      <td>0.539</td>\n",
       "      <td>2</td>\n",
       "      <td>-6.091</td>\n",
       "      <td>0</td>\n",
       "      <td>0.0322</td>\n",
       "      <td>0.01620</td>\n",
       "      <td>0.000012</td>\n",
       "      <td>0.1050</td>\n",
       "      <td>0.390</td>\n",
       "      <td>75.012</td>\n",
       "      <td>4</td>\n",
       "      <td>0.0</td>\n",
       "    </tr>\n",
       "    <tr>\n",
       "      <th>3</th>\n",
       "      <td>84</td>\n",
       "      <td>232106</td>\n",
       "      <td>0.0</td>\n",
       "      <td>0.743</td>\n",
       "      <td>0.446</td>\n",
       "      <td>4</td>\n",
       "      <td>-7.807</td>\n",
       "      <td>0</td>\n",
       "      <td>0.0683</td>\n",
       "      <td>0.00390</td>\n",
       "      <td>0.118000</td>\n",
       "      <td>0.3370</td>\n",
       "      <td>0.278</td>\n",
       "      <td>123.596</td>\n",
       "      <td>4</td>\n",
       "      <td>0.0</td>\n",
       "    </tr>\n",
       "    <tr>\n",
       "      <th>4</th>\n",
       "      <td>76</td>\n",
       "      <td>225026</td>\n",
       "      <td>0.0</td>\n",
       "      <td>0.572</td>\n",
       "      <td>0.214</td>\n",
       "      <td>7</td>\n",
       "      <td>-15.625</td>\n",
       "      <td>1</td>\n",
       "      <td>0.0293</td>\n",
       "      <td>0.64900</td>\n",
       "      <td>0.129000</td>\n",
       "      <td>0.1250</td>\n",
       "      <td>0.485</td>\n",
       "      <td>95.542</td>\n",
       "      <td>4</td>\n",
       "      <td>0.0</td>\n",
       "    </tr>\n",
       "  </tbody>\n",
       "</table>\n",
       "</div>"
      ],
      "text/plain": [
       "   popularity  duration_ms  explicit  danceability  energy  key  loudness  \\\n",
       "0          77       230613       0.0         0.509   0.448    4    -7.552   \n",
       "1          79       208760       0.0         0.636   0.676    2    -3.442   \n",
       "2          76       180690       0.0         0.573   0.539    2    -6.091   \n",
       "3          84       232106       0.0         0.743   0.446    4    -7.807   \n",
       "4          76       225026       0.0         0.572   0.214    7   -15.625   \n",
       "\n",
       "   mode  speechiness  acousticness  instrumentalness  liveness  valence  \\\n",
       "0     0       0.0357       0.00713          0.013700    0.2440    0.221   \n",
       "1     1       0.0263       0.08070          0.000000    0.0831    0.273   \n",
       "2     0       0.0322       0.01620          0.000012    0.1050    0.390   \n",
       "3     0       0.0683       0.00390          0.118000    0.3370    0.278   \n",
       "4     1       0.0293       0.64900          0.129000    0.1250    0.485   \n",
       "\n",
       "     tempo  time_signature  track_genre  \n",
       "0  156.909               3          0.0  \n",
       "1  113.980               4          0.0  \n",
       "2   75.012               4          0.0  \n",
       "3  123.596               4          0.0  \n",
       "4   95.542               4          0.0  "
      ]
     },
     "execution_count": 268,
     "metadata": {},
     "output_type": "execute_result"
    }
   ],
   "source": [
    "df[\"explicit\"] = df[\"explicit\"].astype(np.float64)\n",
    "df.head()"
   ]
  },
  {
   "cell_type": "code",
   "execution_count": 269,
   "id": "d0dd3c1e-7618-49d3-bfc3-2478d28a1e2a",
   "metadata": {},
   "outputs": [],
   "source": [
    "y = df[\"popularity\"]\n",
    "X = df.iloc[:,1:]"
   ]
  },
  {
   "cell_type": "code",
   "execution_count": 270,
   "id": "d19d62b3-1939-47ca-8790-1d509ee8e700",
   "metadata": {},
   "outputs": [
    {
     "data": {
      "text/plain": [
       "((4000, 15), (1000, 15))"
      ]
     },
     "execution_count": 270,
     "metadata": {},
     "output_type": "execute_result"
    }
   ],
   "source": [
    "X_train, X_test, y_train, y_test = train_test_split(X, y, test_size=0.2, random_state=1)\n",
    "X_train.shape, X_test.shape"
   ]
  },
  {
   "cell_type": "code",
   "execution_count": 271,
   "id": "a5333dcd-5d16-4d6c-8437-de298eb415f0",
   "metadata": {},
   "outputs": [
    {
     "data": {
      "text/html": [
       "<div>\n",
       "<style scoped>\n",
       "    .dataframe tbody tr th:only-of-type {\n",
       "        vertical-align: middle;\n",
       "    }\n",
       "\n",
       "    .dataframe tbody tr th {\n",
       "        vertical-align: top;\n",
       "    }\n",
       "\n",
       "    .dataframe thead th {\n",
       "        text-align: right;\n",
       "    }\n",
       "</style>\n",
       "<table border=\"1\" class=\"dataframe\">\n",
       "  <thead>\n",
       "    <tr style=\"text-align: right;\">\n",
       "      <th></th>\n",
       "      <th>duration_ms</th>\n",
       "      <th>explicit</th>\n",
       "      <th>danceability</th>\n",
       "      <th>energy</th>\n",
       "      <th>key</th>\n",
       "      <th>loudness</th>\n",
       "      <th>mode</th>\n",
       "      <th>speechiness</th>\n",
       "      <th>acousticness</th>\n",
       "      <th>instrumentalness</th>\n",
       "      <th>liveness</th>\n",
       "      <th>valence</th>\n",
       "      <th>tempo</th>\n",
       "      <th>time_signature</th>\n",
       "      <th>track_genre</th>\n",
       "    </tr>\n",
       "  </thead>\n",
       "  <tbody>\n",
       "    <tr>\n",
       "      <th>0</th>\n",
       "      <td>-0.367631</td>\n",
       "      <td>-0.272239</td>\n",
       "      <td>0.387825</td>\n",
       "      <td>-1.013082</td>\n",
       "      <td>-1.522454</td>\n",
       "      <td>-2.663287</td>\n",
       "      <td>0.764713</td>\n",
       "      <td>-0.657657</td>\n",
       "      <td>1.195943</td>\n",
       "      <td>7.514991</td>\n",
       "      <td>-0.373342</td>\n",
       "      <td>-0.765841</td>\n",
       "      <td>-0.304803</td>\n",
       "      <td>0.217742</td>\n",
       "      <td>-0.711000</td>\n",
       "    </tr>\n",
       "    <tr>\n",
       "      <th>1</th>\n",
       "      <td>-0.682686</td>\n",
       "      <td>-0.272239</td>\n",
       "      <td>0.910051</td>\n",
       "      <td>0.674140</td>\n",
       "      <td>0.464713</td>\n",
       "      <td>1.270111</td>\n",
       "      <td>-1.307680</td>\n",
       "      <td>-0.171855</td>\n",
       "      <td>-0.934700</td>\n",
       "      <td>-0.215201</td>\n",
       "      <td>2.130580</td>\n",
       "      <td>-1.158398</td>\n",
       "      <td>-0.794614</td>\n",
       "      <td>0.217742</td>\n",
       "      <td>-0.711000</td>\n",
       "    </tr>\n",
       "    <tr>\n",
       "      <th>2</th>\n",
       "      <td>-0.534071</td>\n",
       "      <td>-0.272239</td>\n",
       "      <td>-0.169217</td>\n",
       "      <td>-0.028869</td>\n",
       "      <td>-0.954692</td>\n",
       "      <td>0.376793</td>\n",
       "      <td>0.764713</td>\n",
       "      <td>-0.536206</td>\n",
       "      <td>-0.545727</td>\n",
       "      <td>-0.225584</td>\n",
       "      <td>-0.495911</td>\n",
       "      <td>-0.580590</td>\n",
       "      <td>0.903176</td>\n",
       "      <td>0.217742</td>\n",
       "      <td>-0.711000</td>\n",
       "    </tr>\n",
       "    <tr>\n",
       "      <th>3</th>\n",
       "      <td>-0.203826</td>\n",
       "      <td>-0.272239</td>\n",
       "      <td>1.000570</td>\n",
       "      <td>0.237270</td>\n",
       "      <td>1.316356</td>\n",
       "      <td>0.305109</td>\n",
       "      <td>-1.307680</td>\n",
       "      <td>0.011036</td>\n",
       "      <td>0.429035</td>\n",
       "      <td>-0.224962</td>\n",
       "      <td>-0.367505</td>\n",
       "      <td>-0.390927</td>\n",
       "      <td>-0.307319</td>\n",
       "      <td>0.217742</td>\n",
       "      <td>-1.417057</td>\n",
       "    </tr>\n",
       "    <tr>\n",
       "      <th>4</th>\n",
       "      <td>-0.945467</td>\n",
       "      <td>-0.272239</td>\n",
       "      <td>-0.412923</td>\n",
       "      <td>1.281741</td>\n",
       "      <td>-1.238573</td>\n",
       "      <td>0.885407</td>\n",
       "      <td>-1.307680</td>\n",
       "      <td>0.199641</td>\n",
       "      <td>0.360945</td>\n",
       "      <td>-0.225584</td>\n",
       "      <td>3.443825</td>\n",
       "      <td>-0.448267</td>\n",
       "      <td>-0.971575</td>\n",
       "      <td>0.217742</td>\n",
       "      <td>0.701115</td>\n",
       "    </tr>\n",
       "  </tbody>\n",
       "</table>\n",
       "</div>"
      ],
      "text/plain": [
       "   duration_ms  explicit  danceability    energy       key  loudness  \\\n",
       "0    -0.367631 -0.272239      0.387825 -1.013082 -1.522454 -2.663287   \n",
       "1    -0.682686 -0.272239      0.910051  0.674140  0.464713  1.270111   \n",
       "2    -0.534071 -0.272239     -0.169217 -0.028869 -0.954692  0.376793   \n",
       "3    -0.203826 -0.272239      1.000570  0.237270  1.316356  0.305109   \n",
       "4    -0.945467 -0.272239     -0.412923  1.281741 -1.238573  0.885407   \n",
       "\n",
       "       mode  speechiness  acousticness  instrumentalness  liveness   valence  \\\n",
       "0  0.764713    -0.657657      1.195943          7.514991 -0.373342 -0.765841   \n",
       "1 -1.307680    -0.171855     -0.934700         -0.215201  2.130580 -1.158398   \n",
       "2  0.764713    -0.536206     -0.545727         -0.225584 -0.495911 -0.580590   \n",
       "3 -1.307680     0.011036      0.429035         -0.224962 -0.367505 -0.390927   \n",
       "4 -1.307680     0.199641      0.360945         -0.225584  3.443825 -0.448267   \n",
       "\n",
       "      tempo  time_signature  track_genre  \n",
       "0 -0.304803        0.217742    -0.711000  \n",
       "1 -0.794614        0.217742    -0.711000  \n",
       "2  0.903176        0.217742    -0.711000  \n",
       "3 -0.307319        0.217742    -1.417057  \n",
       "4 -0.971575        0.217742     0.701115  "
      ]
     },
     "execution_count": 271,
     "metadata": {},
     "output_type": "execute_result"
    }
   ],
   "source": [
    "X_train = pd.DataFrame(StandardScaler().fit_transform(X_train), columns=X.columns)\n",
    "X_test = pd.DataFrame(StandardScaler().fit_transform(X_test), columns=X.columns)\n",
    "X_train.head()"
   ]
  },
  {
   "cell_type": "code",
   "execution_count": 272,
   "id": "bf37cdf6-dea9-4f1d-ba10-677c4828311e",
   "metadata": {},
   "outputs": [],
   "source": [
    "X_train_tensor = torch.tensor(X_train.values)\n",
    "X_test_tensor = torch.tensor(X_test.values)\n",
    "y_train_tensor = torch.tensor(y_train.values)\n",
    "y_test_tensor = torch.tensor(y_test.values)"
   ]
  },
  {
   "cell_type": "code",
   "execution_count": null,
   "id": "d92bb604-c79e-4c1c-9a5a-80cbf26d03a2",
   "metadata": {},
   "outputs": [],
   "source": []
  },
  {
   "cell_type": "markdown",
   "id": "66b0ef70-f196-4538-ad25-edc11517e58c",
   "metadata": {},
   "source": [
    "### Реализуйте функцию create_model(hid_size, num_features, n_out), в которой создаётся нейросеть через модуль nn.Sequental:\n",
    "\n",
    " * с тремя линейными слоями\n",
    "\n",
    " * с функцией активации ReLU на промежуточных слоях\n",
    "\n",
    " * с размером скрытого представления на первом слое 50, на втором слое 25\n",
    "\n",
    " * с фиксированной случайностью torch.manual_seed(1)."
   ]
  },
  {
   "cell_type": "code",
   "execution_count": 273,
   "id": "5e4e6dd7-70fd-4768-bb28-4aa9526146be",
   "metadata": {},
   "outputs": [],
   "source": [
    "def create_model(hid_size, num_features, n_out):\n",
    "    torch.manual_seed(1)\n",
    "    \n",
    "    model = nn.Sequential(\n",
    "          nn.Linear(num_features,hid_size*2),\n",
    "          nn.ReLU(),\n",
    "          nn.Linear(hid_size*2, hid_size),\n",
    "          nn.ReLU(),\n",
    "          nn.Linear(hid_size, n_out)\n",
    "        )\n",
    "    return model"
   ]
  },
  {
   "cell_type": "code",
   "execution_count": 274,
   "id": "fb783b1b-ef7a-4548-a184-441e86eddb3d",
   "metadata": {},
   "outputs": [],
   "source": [
    "X_train_tensor = X_train_tensor.float()\n",
    "X_test_tensor = X_test_tensor.float()\n",
    "y_train_tensor = y_train_tensor.float()\n",
    "y_test_tensor = y_test_tensor.float()\n",
    "y_train_tensor = y_train_tensor.view(-1, 1)\n",
    "y_test_tensor = y_test_tensor.view(-1, 1)"
   ]
  },
  {
   "cell_type": "code",
   "execution_count": 275,
   "id": "8dc62135-1fe4-4ab1-9f48-42adac2d7d90",
   "metadata": {},
   "outputs": [
    {
     "name": "stdout",
     "output_type": "stream",
     "text": [
      "Sequential(\n",
      "  (0): Linear(in_features=15, out_features=50, bias=True)\n",
      "  (1): ReLU()\n",
      "  (2): Linear(in_features=50, out_features=25, bias=True)\n",
      "  (3): ReLU()\n",
      "  (4): Linear(in_features=25, out_features=1, bias=True)\n",
      ")\n"
     ]
    }
   ],
   "source": [
    "model = create_model(25, X_train_tensor.shape[1], 1)\n",
    "#preds = model(X_train_tensor)\n",
    "print(model)"
   ]
  },
  {
   "cell_type": "code",
   "execution_count": 276,
   "id": "cd46d944-e734-4f3f-8b57-0b633805d492",
   "metadata": {},
   "outputs": [
    {
     "data": {
      "text/plain": [
       "tensor(0.1330, grad_fn=<SelectBackward0>)"
      ]
     },
     "execution_count": 276,
     "metadata": {},
     "output_type": "execute_result"
    }
   ],
   "source": [
    "model[0].weight[0,0]"
   ]
  },
  {
   "cell_type": "markdown",
   "id": "39325e8c-d355-42b7-b029-d8b754d97e51",
   "metadata": {},
   "source": [
    "#### Напишите функцию для обучения нейросети с выбором оптимизатора. Будем считать метрику RMSE. \n",
    "\n",
    " * Проведите эксперименты с тремя оптимизаторами: SGD, Adagrad, Adam на скорости обучения 0.01 и 100 эпохах:\n",
    "\n",
    " * Обучите нейросеть на выбранном оптимизаторе (создавайте каждый раз нейросеть через функцию create_model)\n",
    "\n",
    " * Получите значение RMSE на последней эпохе на тестовой выборке\n",
    "\n",
    " * Получите по этой метрике самый лучший оптимизатор\n",
    "\n",
    " * Укажите название самого лучшего оптимизатора на этой задаче."
   ]
  },
  {
   "cell_type": "code",
   "execution_count": 277,
   "id": "f54ff039-ae5c-4452-a7a9-b6af1890d912",
   "metadata": {},
   "outputs": [],
   "source": [
    "def train_model(model, opt, X_train, y_train, X_test, y_test, n_epoch=100):\n",
    "    loss_fn = nn.MSELoss()\n",
    "    loss_train, loss_test = [], []\n",
    "\n",
    "    for epoch_num in range(n_epoch):\n",
    "        opt.zero_grad()  # обнуление градиентов\n",
    "        y_predicted = model(X_train)#.squeeze()  # получение предсказаний и удаление лишнего измерения\n",
    "        loss = loss_fn(y_predicted, y_train)  # подсчет функции потерь\n",
    "        loss.backward()  # обратный проход\n",
    "        opt.step()  # шаг оптимизации\n",
    "        loss_train.append(np.sqrt(loss.item()))\n",
    "\n",
    "        y_pred = model(X_test)#.squeeze()  # получение предсказаний на тесте и удаление лишнего измерения\n",
    "        mse = loss_fn(y_pred, y_test)  # подсчет функции потерь на тесте\n",
    "        loss_test.append(np.sqrt(mse.item()))\n",
    "        \n",
    "    return model, loss_train, loss_test  "
   ]
  },
  {
   "cell_type": "code",
   "execution_count": 278,
   "id": "9c9d5c54-def1-4992-8e67-00058ad2d9d2",
   "metadata": {},
   "outputs": [
    {
     "name": "stdout",
     "output_type": "stream",
     "text": [
      "28.030508586557858\n"
     ]
    }
   ],
   "source": [
    "model1 = create_model(25,X_train_tensor.shape[1], 1)\n",
    "opt1 = torch.optim.SGD(model1.parameters(), lr=0.01)\n",
    "model, loss_train, loss_test = train_model(model1, opt1, X_train_tensor, y_train_tensor, X_test_tensor, y_test_tensor, n_epoch=100)\n",
    "print(loss_test[-1])"
   ]
  },
  {
   "cell_type": "code",
   "execution_count": 279,
   "id": "2ff905fe-2219-4b9d-8410-d2dee4558457",
   "metadata": {},
   "outputs": [
    {
     "name": "stdout",
     "output_type": "stream",
     "text": [
      "27.60877258645282\n"
     ]
    }
   ],
   "source": [
    "model2 = create_model(25,X_train_tensor.shape[1], 1)\n",
    "opt2 = torch.optim.Adam(model2.parameters(), lr=0.01)\n",
    "model, loss_train, loss_test = train_model(model2, opt2, X_train_tensor, y_train_tensor, X_test_tensor, y_test_tensor, n_epoch=100)\n",
    "print(loss_test[-1])"
   ]
  },
  {
   "cell_type": "code",
   "execution_count": 280,
   "id": "e621f6f5-c898-4821-a243-338b9ab7fcfe",
   "metadata": {},
   "outputs": [
    {
     "name": "stdout",
     "output_type": "stream",
     "text": [
      "29.279296809856746\n"
     ]
    }
   ],
   "source": [
    "model3 = create_model(25,X_train_tensor.shape[1], 1)\n",
    "opt3 = torch.optim.Adagrad(model3.parameters(), lr=0.01)\n",
    "model, loss_train, loss_test = train_model(model3, opt3, X_train_tensor, y_train_tensor, X_test_tensor, y_test_tensor, n_epoch=100)\n",
    "print(loss_test[-1])"
   ]
  },
  {
   "cell_type": "code",
   "execution_count": null,
   "id": "2c3f632c-227e-4109-86d4-4d823ebd7056",
   "metadata": {},
   "outputs": [],
   "source": []
  },
  {
   "cell_type": "markdown",
   "id": "64cb4713-844f-496e-9f4e-57b7c62cacdd",
   "metadata": {},
   "source": [
    "#### Перейдем к задаче бинарной классификации (популярная песня/не популярная песня), для этого нужно перевести целевой признак popularity в бинарный вид:\n",
    "\n",
    " * Если признак popularity больше 50 - 1 класс\n",
    "\n",
    " * Если признак popularity меньше или равен 50 - 0 класс\n",
    "\n",
    "##### Используйте разбиение датасета на обучение и тест, полученное ранее в 1-ом задании.\n",
    "\n",
    "##### Преобразуйте целевые значения в тензоры"
   ]
  },
  {
   "cell_type": "code",
   "execution_count": 281,
   "id": "e7edf1c5-ab19-449a-8e59-e87039af7ec4",
   "metadata": {},
   "outputs": [
    {
     "data": {
      "text/plain": [
       "1233     0\n",
       "1056    73\n",
       "1686    64\n",
       "187      0\n",
       "3840    35\n",
       "        ..\n",
       "2895    65\n",
       "2763    65\n",
       "905     42\n",
       "3980    35\n",
       "235      0\n",
       "Name: popularity, Length: 4000, dtype: int64"
      ]
     },
     "execution_count": 281,
     "metadata": {},
     "output_type": "execute_result"
    }
   ],
   "source": [
    "y_train"
   ]
  },
  {
   "cell_type": "code",
   "execution_count": 282,
   "id": "2a8d83c4-fab9-49eb-8245-0fb83a2aebb3",
   "metadata": {},
   "outputs": [
    {
     "data": {
      "text/plain": [
       "1233    0.0\n",
       "1056    1.0\n",
       "1686    1.0\n",
       "187     0.0\n",
       "3840    0.0\n",
       "       ... \n",
       "2895    1.0\n",
       "2763    1.0\n",
       "905     0.0\n",
       "3980    0.0\n",
       "235     0.0\n",
       "Name: popularity, Length: 4000, dtype: float64"
      ]
     },
     "execution_count": 282,
     "metadata": {},
     "output_type": "execute_result"
    }
   ],
   "source": [
    "y_train = (y_train>50).astype(np.float64)\n",
    "y_test = (y_test>50).astype(np.float64)\n",
    "y_train"
   ]
  },
  {
   "cell_type": "code",
   "execution_count": 283,
   "id": "0e0c03b1-a037-4e01-9b26-ff431625002d",
   "metadata": {},
   "outputs": [],
   "source": [
    "y_train_tensor = torch.tensor(y_train.values).float()\n",
    "y_test_tensor = torch.tensor(y_test.values).float()"
   ]
  },
  {
   "cell_type": "code",
   "execution_count": 284,
   "id": "eacf73d7-459e-43e4-a539-772af768d83d",
   "metadata": {},
   "outputs": [
    {
     "data": {
      "text/plain": [
       "tensor([0., 1., 1.,  ..., 0., 0., 0.])"
      ]
     },
     "execution_count": 284,
     "metadata": {},
     "output_type": "execute_result"
    }
   ],
   "source": [
    "y_train_tensor"
   ]
  },
  {
   "cell_type": "markdown",
   "id": "4c7632f5-dc3c-4958-85dd-ae9f38d618f1",
   "metadata": {},
   "source": [
    "#### Создайте нейронную сеть для задачи классификации через функцию create_model(hid_size, num_features, n_out):\n",
    "\n",
    " * с тремя линейными слоями\n",
    "\n",
    " * с функцией активации ReLU на промежуточных слоях\n",
    "\n",
    " * с подходящей функцией активации на последнем слое\n",
    "\n",
    " * с размером скрытого представления 50 на первом и втором слое\n",
    "\n",
    " * с фиксированной случайностью torch.manual_seed(1).\n",
    "\n",
    "##### Укажите, предсказание необученной сетью на нулевом тестовом объекте. "
   ]
  },
  {
   "cell_type": "code",
   "execution_count": 291,
   "id": "2b02f72e-94f8-4e20-8cd9-4fcbf552e98f",
   "metadata": {},
   "outputs": [],
   "source": [
    "def create_model(hid_size, num_features, n_out):\n",
    "    torch.manual_seed(1)\n",
    "    \n",
    "    model = nn.Sequential(\n",
    "          nn.Linear(num_features,hid_size, bias=False),\n",
    "          nn.ReLU(),\n",
    "          nn.Linear(hid_size, hid_size, bias=False),\n",
    "          nn.ReLU(),\n",
    "          nn.Linear(hid_size, n_out, bias=False),\n",
    "          nn.Sigmoid()\n",
    "        )\n",
    "    return model"
   ]
  },
  {
   "cell_type": "code",
   "execution_count": 292,
   "id": "e25703d9-ea90-413f-b635-808420f6f190",
   "metadata": {},
   "outputs": [
    {
     "data": {
      "text/plain": [
       "Sequential(\n",
       "  (0): Linear(in_features=15, out_features=50, bias=False)\n",
       "  (1): ReLU()\n",
       "  (2): Linear(in_features=50, out_features=50, bias=False)\n",
       "  (3): ReLU()\n",
       "  (4): Linear(in_features=50, out_features=1, bias=False)\n",
       "  (5): Sigmoid()\n",
       ")"
      ]
     },
     "execution_count": 292,
     "metadata": {},
     "output_type": "execute_result"
    }
   ],
   "source": [
    "model = create_model(50, X_train_tensor.shape[1], 1)\n",
    "model"
   ]
  },
  {
   "cell_type": "code",
   "execution_count": 293,
   "id": "d56b6d55-2489-464d-8db8-1f321608ba92",
   "metadata": {},
   "outputs": [
    {
     "data": {
      "text/plain": [
       "tensor([ 0.7501, -0.3009,  0.1429, -1.4305, -0.3701, -1.2343,  0.7306, -0.3903,\n",
       "         1.2200, -0.2389, -0.6227, -1.5270, -0.5322,  0.2125,  0.0199])"
      ]
     },
     "execution_count": 293,
     "metadata": {},
     "output_type": "execute_result"
    }
   ],
   "source": [
    "X_test_tensor[0]"
   ]
  },
  {
   "cell_type": "code",
   "execution_count": 294,
   "id": "d2e4c416-648c-41cf-bfe3-5223ecbb7781",
   "metadata": {},
   "outputs": [
    {
     "data": {
      "text/plain": [
       "tensor([0.4892], grad_fn=<SigmoidBackward0>)"
      ]
     },
     "execution_count": 294,
     "metadata": {},
     "output_type": "execute_result"
    }
   ],
   "source": [
    "model = create_model(50, X_train_tensor.shape[1], 1)\n",
    "model(X_test_tensor[0])"
   ]
  },
  {
   "cell_type": "markdown",
   "id": "42731e26-967b-4abe-982f-2bccdd9adcc4",
   "metadata": {},
   "source": [
    "#### Напишите функцию для обучения нейросети. Будем считать метрику Accuracy каждый log_period эпох. Можете воспользоваться следующей заготовкой.\n",
    "\n",
    "##### Используйте оптимизатор Adam со скоростью обучения 0.01\n",
    "\n",
    "##### Запустите обучение на 200 эпохах и визуализируйте метрику accuracy на обучении и тесте."
   ]
  },
  {
   "cell_type": "code",
   "execution_count": 295,
   "id": "a62fccda-2754-40a2-9dc6-2614e1ad0d57",
   "metadata": {},
   "outputs": [],
   "source": [
    "def train_model(model, opt, X_train, y_train, X_test, y_test, n_epoch=200, log_period=1):\n",
    "    loss_fn = torch.nn.BCELoss()  # Определяем функцию потерь\n",
    "    loss_train, loss_test = [], []\n",
    "    acc_train, acc_test = [], []\n",
    "\n",
    "    for epoch_num in range(n_epoch):\n",
    "        model.train()\n",
    "        opt.zero_grad()  # Обнуление градиентов\n",
    "\n",
    "        # Получение предсказаний\n",
    "        y_predicted = model(X_train)\n",
    "\n",
    "        # Подсчет функции потерь\n",
    "        loss = loss_fn(y_predicted, y_train)  \n",
    "        loss.backward()  # Обратный проход\n",
    "        opt.step()  # Шаг оптимизации\n",
    "\n",
    "        if epoch_num % log_period == 0:\n",
    "            loss_train.append(loss.item())\n",
    "\n",
    "            # Подсчет метрики на обучении\n",
    "            acc = ((y_predicted > 0.5).float() == y_train).float().mean()\n",
    "            acc_train.append(acc.item())\n",
    "\n",
    "            # Оценка на тестовой выборке\n",
    "            model.eval()\n",
    "            with torch.no_grad():  # Отключаем градиенты\n",
    "                y_pred = model(X_test)  # Получение предсказаний на тесте\n",
    "                bce = loss_fn(y_pred, y_test)  # Подсчет функции потерь на тесте\n",
    "                loss_test.append(bce.item())\n",
    "\n",
    "                # Подсчет метрики на тесте\n",
    "                acc_test_val = ((y_pred > 0.5).float() == y_test).float().mean()\n",
    "                acc_test.append(acc_test_val.item())\n",
    "\n",
    "\n",
    "    return model, loss_train, loss_test, acc_train, acc_test\n"
   ]
  },
  {
   "cell_type": "code",
   "execution_count": 296,
   "id": "a42bdaba-a4c5-4165-b61e-68e5bfae6987",
   "metadata": {},
   "outputs": [],
   "source": [
    "y_train_tensor = y_train_tensor.view(-1,1)\n",
    "y_test_tensor = y_test_tensor.view(-1,1)"
   ]
  },
  {
   "cell_type": "code",
   "execution_count": 297,
   "id": "bff1735c-e73f-4c5f-9263-fca78ec40d54",
   "metadata": {},
   "outputs": [],
   "source": [
    "model = create_model(50, X_train_tensor.shape[1], 1)\n",
    "opt = torch.optim.Adam(model.parameters(), lr=0.01)\n",
    "model, loss_train, loss_test, acc_train, acc_test = train_model(model, opt, X_train_tensor, y_train_tensor, X_test_tensor, y_test_tensor, n_epoch=200, log_period=5)"
   ]
  },
  {
   "cell_type": "code",
   "execution_count": 298,
   "id": "1add4b69-f5d5-4071-9277-8901c0dd8a71",
   "metadata": {},
   "outputs": [
    {
     "data": {
      "text/plain": [
       "[<matplotlib.lines.Line2D at 0x218d573c5e0>]"
      ]
     },
     "execution_count": 298,
     "metadata": {},
     "output_type": "execute_result"
    },
    {
     "data": {
      "image/png": "[encoded data removed]",
      "text/plain": [
       "<Figure size 640x480 with 1 Axes>"
      ]
     },
     "metadata": {},
     "output_type": "display_data"
    }
   ],
   "source": [
    "plt.plot(np.arange(40), acc_train)\n",
    "plt.plot(np.arange(40), acc_test)"
   ]
  },
  {
   "cell_type": "code",
   "execution_count": null,
   "id": "039cdfdb-c1fd-4a25-ad0e-aa659694fb5c",
   "metadata": {},
   "outputs": [],
   "source": []
  },
  {
   "cell_type": "markdown",
   "id": "55f58b0e-1a4c-41bb-b526-56863460f7d3",
   "metadata": {},
   "source": [
    "#### Добавим слой BatchNorm и Dropout (с параметрами по умолчанию) дважды для снижения переобучения: после первого и второго линейных слоев.\n",
    "\n",
    "##### Слои BatchNorm добавьте до функции активации, а слои Dropout после.\n",
    "\n",
    "##### Обсуждение на тему, в каком порядке ставить BatchNorm с Dropout можно почитать здесь\n",
    "\n",
    "##### Используйте оптимизатор Adam со скоростью обучения 0.01\n",
    "\n",
    "##### Запустите обучение на 200 эпохах с помощью функции train_model с предыдущего задания с подсчетом метрики accuracy каждую десятую эпоху (log_period=10) и визуализируйте метрику accuracy на обучении и тесте."
   ]
  },
  {
   "cell_type": "code",
   "execution_count": 299,
   "id": "51ee78f6-addf-445e-ba2b-ebee4b3b736f",
   "metadata": {},
   "outputs": [],
   "source": [
    "def create_model(hid_size, num_features, n_out):\n",
    "    torch.manual_seed(1)\n",
    "    \n",
    "    model = nn.Sequential(\n",
    "        nn.Linear(num_features, hid_size, bias=False),  # Первый линейный слой\n",
    "        nn.BatchNorm1d(hid_size),           # BatchNorm после первого слоя\n",
    "        nn.ReLU(),                          # Первый ReLU\n",
    "        nn.Dropout(),                       # Dropout после ReLU\n",
    "        nn.Linear(hid_size, hid_size, bias=False),      # Второй линейный слой\n",
    "        nn.BatchNorm1d(hid_size),           # BatchNorm после второго слоя\n",
    "        nn.ReLU(),                          # Второй ReLU\n",
    "        nn.Dropout(),                       # Dropout после второго ReLU\n",
    "        nn.Linear(hid_size, n_out, bias=False),         # Третий линейный слой\n",
    "        nn.Sigmoid()                        # Сигмоида на выходе для бинарной классификации\n",
    "    )\n",
    "    return model"
   ]
  },
  {
   "cell_type": "code",
   "execution_count": null,
   "id": "b56d63c6-d717-4e3b-8fa3-f8379688474d",
   "metadata": {},
   "outputs": [],
   "source": []
  },
  {
   "cell_type": "code",
   "execution_count": 300,
   "id": "a90ee747-c124-4483-9d4e-0f6efc5a488a",
   "metadata": {},
   "outputs": [],
   "source": [
    "model = create_model(50, X_train_tensor.shape[1], 1)\n",
    "opt = torch.optim.Adam(model.parameters(), lr=0.01)\n",
    "model, loss_train, loss_test, acc_train, acc_test = train_model(model, opt, X_train_tensor, y_train_tensor, X_test_tensor, y_test_tensor, n_epoch=200, log_period=10)"
   ]
  },
  {
   "cell_type": "code",
   "execution_count": 301,
   "id": "794638e0-ad9b-49d2-b0e0-b9319adc52a4",
   "metadata": {},
   "outputs": [
    {
     "data": {
      "text/plain": [
       "[<matplotlib.lines.Line2D at 0x218d577aeb0>]"
      ]
     },
     "execution_count": 301,
     "metadata": {},
     "output_type": "execute_result"
    },
    {
     "data": {
      "image/png": "[encoded data removed]",
      "text/plain": [
       "<Figure size 640x480 with 1 Axes>"
      ]
     },
     "metadata": {},
     "output_type": "display_data"
    }
   ],
   "source": [
    "plt.plot(np.arange(20), acc_train)\n",
    "plt.plot(np.arange(20), acc_test)"
   ]
  },
  {
   "cell_type": "code",
   "execution_count": 302,
   "id": "02cdebf7-45ae-4534-ba4f-b46ce17e8481",
   "metadata": {},
   "outputs": [
    {
     "data": {
      "text/plain": [
       "-0.0065000057220458984"
      ]
     },
     "execution_count": 302,
     "metadata": {},
     "output_type": "execute_result"
    }
   ],
   "source": [
    "acc_train[-1] - acc_test[-1]"
   ]
  },
  {
   "cell_type": "code",
   "execution_count": 311,
   "id": "05ce6b5d-f8b7-48cf-9272-07cf093f1e33",
   "metadata": {},
   "outputs": [
    {
     "data": {
      "image/png": "[encoded data removed]",
      "text/plain": [
       "<Figure size 1200x600 with 1 Axes>"
      ]
     },
     "metadata": {},
     "output_type": "display_data"
    }
   ],
   "source": [
    "# Функция для создания модели с BatchNorm и Dropout\n",
    "def create_model(hid_size=50, num_features=50, n_out=1, dropout_rate=0.5):\n",
    "    torch.manual_seed(1)\n",
    "    \n",
    "    model = nn.Sequential(\n",
    "        nn.Linear(num_features, hid_size),  # Первый линейный слой\n",
    "        nn.BatchNorm1d(hid_size),           # BatchNorm после первого слоя\n",
    "        nn.ReLU(),                           # Первый ReLU\n",
    "        nn.Dropout(dropout_rate),            # Dropout после ReLU\n",
    "        nn.Linear(hid_size, hid_size),       # Второй линейный слой\n",
    "        nn.BatchNorm1d(hid_size),           # BatchNorm после второго слоя\n",
    "        nn.ReLU(),                           # Второй ReLU\n",
    "        nn.Dropout(dropout_rate),            # Dropout после второго ReLU\n",
    "        nn.Linear(hid_size, n_out),         # Третий линейный слой\n",
    "        nn.Sigmoid()                        # Сигмоида на выходе для бинарной классификации\n",
    "    )\n",
    "    return model\n",
    "\n",
    "# Функция для обучения модели\n",
    "def train_model(model, opt, X_train, y_train, X_test, y_test, n_epoch=200, log_period=10):\n",
    "    loss_fn = torch.nn.BCELoss()  # Определяем функцию потерь\n",
    "    loss_train, loss_test = [], []\n",
    "    acc_train, acc_test = [], []\n",
    "\n",
    "    for epoch_num in range(n_epoch):\n",
    "        model.train()\n",
    "        opt.zero_grad()  # Обнуление градиентов\n",
    "\n",
    "        # Получение предсказаний\n",
    "        y_predicted = model(X_train)\n",
    "\n",
    "        # Подсчет функции потерь\n",
    "        loss = loss_fn(y_predicted, y_train)  \n",
    "        loss.backward()  # Обратный проход\n",
    "        opt.step()  # Шаг оптимизации\n",
    "\n",
    "        if epoch_num % log_period == 0:\n",
    "            loss_train.append(loss.item())\n",
    "\n",
    "            # Подсчет метрики на обучении\n",
    "            acc = ((y_predicted > 0.5).float() == y_train).float().mean()\n",
    "            acc_train.append(acc.item())\n",
    "\n",
    "            # Оценка на тестовой выборке\n",
    "            model.eval()\n",
    "            with torch.no_grad():  # Отключаем градиенты\n",
    "                y_pred = model(X_test)  # Получение предсказаний на тесте\n",
    "                bce = loss_fn(y_pred, y_test)  # Подсчет функции потерь на тесте\n",
    "                loss_test.append(bce.item())\n",
    "\n",
    "                # Подсчет метрики на тесте\n",
    "                acc_test_val = ((y_pred > 0.5).float() == y_test).float().mean()\n",
    "                acc_test.append(acc_test_val.item())\n",
    "\n",
    "    return model, loss_train, loss_test, acc_train, acc_test\n",
    "\n",
    "\n",
    "# Создание модели и обучение\n",
    "model = create_model(50, X_train_tensor.shape[1], 1)\n",
    "opt = torch.optim.Adam(model.parameters(), lr=0.01)\n",
    "model, loss_train, loss_test, acc_train, acc_test = train_model(model, opt, X_train_tensor, y_train_tensor, X_test_tensor, y_test_tensor, n_epoch=200, log_period=10)\n",
    "\n",
    "# Визуализация точности\n",
    "plt.figure(figsize=(12, 6))\n",
    "plt.plot(range(0, 200, 10), acc_train, label='Train Accuracy')\n",
    "plt.plot(range(0, 200, 10), acc_test, label='Test Accuracy')\n",
    "plt.xlabel('Epoch')\n",
    "plt.ylabel('Accuracy')\n",
    "plt.title('Training and Test Accuracy')\n",
    "plt.legend()\n",
    "plt.grid()\n",
    "plt.show()"
   ]
  },
  {
   "cell_type": "code",
   "execution_count": 312,
   "id": "7687faf2-46d7-4a42-8466-276568ebec4d",
   "metadata": {},
   "outputs": [
    {
     "data": {
      "text/plain": [
       "-0.004250049591064453"
      ]
     },
     "execution_count": 312,
     "metadata": {},
     "output_type": "execute_result"
    }
   ],
   "source": [
    "acc_train[-1] - acc_test[-1]"
   ]
  },
  {
   "cell_type": "code",
   "execution_count": null,
   "id": "5350b66f-381e-4faa-b9fe-593d4e479784",
   "metadata": {},
   "outputs": [],
   "source": []
  }
 ],
 "metadata": {
  "kernelspec": {
   "display_name": "Python 3 (ipykernel)",
   "language": "python",
   "name": "python3"
  },
  "language_info": {
   "codemirror_mode": {
    "name": "ipython",
    "version": 3
   },
   "file_extension": ".py",
   "mimetype": "text/x-python",
   "name": "python",
   "nbconvert_exporter": "python",
   "pygments_lexer": "ipython3",
   "version": "3.9.7"
  }
 },
 "nbformat": 4,
 "nbformat_minor": 5
}
