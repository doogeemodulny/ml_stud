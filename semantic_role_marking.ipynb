{
 "cells": [
  {
   "cell_type": "code",
   "execution_count": 140,
   "metadata": {
    "id": "mDIwm2-sjVU1"
   },
   "outputs": [],
   "source": [
    "import torch\n",
    "import torch.nn as nn\n",
    "import torch.nn.functional as F\n",
    "import torch.optim as optim\n",
    "\n",
    "from tqdm import tqdm"
   ]
  },
  {
   "cell_type": "markdown",
   "metadata": {
    "id": "dw_mlAWbErMa"
   },
   "source": [
    "# Задача\n",
    "\n",
    "В данном задании вам предлагается решить задачу извлечения аргументов (объектов, аспектов и предикатов) из предложения. Такая модель должна быть обучена на предложениях, где слова или фразы имеют разметку последовательности – каждому слову соответствует его тег.\n",
    "\n",
    "> **Пример.** Postgres is easier to install and maintain than Oracle.\n",
    ">\n",
    "> [Postgres **OBJECT**] is [easier **PREDICATE**] to [install **ASPECT**] and [maintain **ASPECT**] than [Oracle **OBJECT**].\n",
    "\n",
    "> Сущности могут состоять из нескольких слов: Advil works better for body aches and pains than Motrin.\n",
    ">\n",
    "> [Advil **OBJECT**] works [better **PREDICATE**] for [body aches **ASPECT**] and [pains **ASPECT**] than [Motrin **OBJECT**].\n",
    "\n",
    "Данные состоят из сравнительных предложений (т.е. предложений, содержащих сравнение двух или более объектов). В предложениях содержится следующая информация:\n",
    "\n",
    "-\t*Объекты* – объекты, которые сравниваются\n",
    "-\t*Аспекты* – характеристики, по которым сравниваются объекты\n",
    "-\t*Сказуемое* – слова или фразы, которые реализуют сравнение (обычно сравнительные прилагательные или наречия)\n",
    "\n",
    "В наборе данных используется схема BIO:\n",
    "\n",
    "- Первое слово сущности помечается тегом `B-<entity-type>` (начало сущности).\n",
    "- Второе и последующие слова сущности помечаются тегом `I-<entity-type>` (внутри сущности).\n",
    "- Слова, которые не являются частью сущности, помечаются тегом `O` (вне сущности).\n",
    "\n",
    "Поэтому в нашем наборе данных используются следующие метки:\n",
    "- O\n",
    "- B-Object\n",
    "- I-Object\n",
    "- B-Aspect\n",
    "- I-Aspect\n",
    "- B-Predicate\n",
    "- I-Predicate\n",
    "\n",
    "**Ваша задача** – присвоить одну из таких меток каждому токену данных путем обучения модели на основе LSTM.\n"
   ]
  },
  {
   "cell_type": "markdown",
   "metadata": {
    "id": "ePN09DRHjVU3"
   },
   "source": [
    "# Data loading"
   ]
  },
  {
   "cell_type": "code",
   "execution_count": 141,
   "metadata": {
    "id": "Alc6_gXUjVU5"
   },
   "outputs": [],
   "source": [
    "def prepare_sequence(seq, to_ix):\n",
    "    idxs = [to_ix[w] for w in seq]\n",
    "    return torch.tensor(idxs, dtype=torch.long)"
   ]
  },
  {
   "cell_type": "code",
   "execution_count": 142,
   "metadata": {
    "id": "Paddoz90jVU6"
   },
   "outputs": [],
   "source": [
    "def read_dataset(filename, splitter=\"\\t\"):\n",
    "    data = []\n",
    "    sentence = []\n",
    "    tags = []\n",
    "    with open(filename) as f:\n",
    "        for line in f:\n",
    "            if not line.isspace():\n",
    "                word, tag = line.split(splitter)\n",
    "                sentence.append(word)\n",
    "                tags.append(tag.strip())\n",
    "            else:\n",
    "                data.append((sentence, tags))\n",
    "                sentence = []\n",
    "                tags = []\n",
    "    return data"
   ]
  },
  {
   "cell_type": "code",
   "execution_count": 143,
   "metadata": {
    "id": "YdSkztDBjVU7"
   },
   "outputs": [],
   "source": [
    "training_data = read_dataset(\"train.tsv\")"
   ]
  },
  {
   "cell_type": "code",
   "execution_count": 144,
   "metadata": {
    "id": "xuWSZoeDjVU8"
   },
   "outputs": [
    {
     "data": {
      "text/plain": [
       "(['also',\n",
       "  ',',\n",
       "  'i',\n",
       "  'have',\n",
       "  'recently',\n",
       "  'discovered',\n",
       "  'advil',\n",
       "  'liquigels',\n",
       "  'work',\n",
       "  'much',\n",
       "  'better',\n",
       "  'and',\n",
       "  'faster',\n",
       "  'for',\n",
       "  'a',\n",
       "  'headache',\n",
       "  'than',\n",
       "  'regular',\n",
       "  'ibuprofen',\n",
       "  '.'],\n",
       " ['O',\n",
       "  'O',\n",
       "  'O',\n",
       "  'O',\n",
       "  'O',\n",
       "  'O',\n",
       "  'B-Object',\n",
       "  'O',\n",
       "  'O',\n",
       "  'O',\n",
       "  'B-Predicate',\n",
       "  'O',\n",
       "  'B-Predicate',\n",
       "  'O',\n",
       "  'O',\n",
       "  'B-Aspect',\n",
       "  'O',\n",
       "  'O',\n",
       "  'B-Object',\n",
       "  'O'])"
      ]
     },
     "execution_count": 144,
     "metadata": {},
     "output_type": "execute_result"
    }
   ],
   "source": [
    "training_data[0]"
   ]
  },
  {
   "cell_type": "code",
   "execution_count": 145,
   "metadata": {
    "id": "pu8zGCcZjVU9"
   },
   "outputs": [],
   "source": [
    "test_data = read_dataset(\"test_no_answer.tsv\", splitter=\"\\n\")"
   ]
  },
  {
   "cell_type": "code",
   "execution_count": 146,
   "metadata": {
    "id": "CqFdS2ioeMYf"
   },
   "outputs": [
    {
     "data": {
      "text/plain": [
       "(['meanwhile',\n",
       "  ',',\n",
       "  'though',\n",
       "  'windows',\n",
       "  '8',\n",
       "  'is',\n",
       "  'significantly',\n",
       "  'at',\n",
       "  'greater',\n",
       "  'risk',\n",
       "  '(',\n",
       "  '1',\n",
       "  '.',\n",
       "  '73',\n",
       "  'percent',\n",
       "  ')',\n",
       "  'compared',\n",
       "  'to',\n",
       "  'windows',\n",
       "  '8',\n",
       "  '.',\n",
       "  '1',\n",
       "  ',',\n",
       "  'according',\n",
       "  'to',\n",
       "  'redmond',\n",
       "  \"'\",\n",
       "  's',\n",
       "  'report',\n",
       "  ',',\n",
       "  'it',\n",
       "  \"'\",\n",
       "  's',\n",
       "  'still',\n",
       "  'significantly',\n",
       "  'safer',\n",
       "  'than',\n",
       "  'windows',\n",
       "  '7',\n",
       "  ',',\n",
       "  'windows',\n",
       "  'xp',\n",
       "  ',',\n",
       "  'or',\n",
       "  'windows',\n",
       "  'vista',\n",
       "  '.'],\n",
       " ['',\n",
       "  '',\n",
       "  '',\n",
       "  '',\n",
       "  '',\n",
       "  '',\n",
       "  '',\n",
       "  '',\n",
       "  '',\n",
       "  '',\n",
       "  '',\n",
       "  '',\n",
       "  '',\n",
       "  '',\n",
       "  '',\n",
       "  '',\n",
       "  '',\n",
       "  '',\n",
       "  '',\n",
       "  '',\n",
       "  '',\n",
       "  '',\n",
       "  '',\n",
       "  '',\n",
       "  '',\n",
       "  '',\n",
       "  '',\n",
       "  '',\n",
       "  '',\n",
       "  '',\n",
       "  '',\n",
       "  '',\n",
       "  '',\n",
       "  '',\n",
       "  '',\n",
       "  '',\n",
       "  '',\n",
       "  '',\n",
       "  '',\n",
       "  '',\n",
       "  '',\n",
       "  '',\n",
       "  '',\n",
       "  '',\n",
       "  '',\n",
       "  '',\n",
       "  ''])"
      ]
     },
     "execution_count": 146,
     "metadata": {},
     "output_type": "execute_result"
    }
   ],
   "source": [
    "test_data[0]"
   ]
  },
  {
   "cell_type": "code",
   "execution_count": 147,
   "metadata": {
    "id": "iJ0n6C0UjVU-"
   },
   "outputs": [],
   "source": [
    "word_to_ix = {}\n",
    "\n",
    "# For each words-list (sentence) and tags-list in each tuple of training_data\n",
    "for sent, tags in training_data:\n",
    "    for word in sent:\n",
    "        if word not in word_to_ix:  # word has not been assigned an index yet\n",
    "            word_to_ix[word] = len(word_to_ix)  # Assign each word with a unique index\n",
    "\n",
    "for sent, tags in test_data:\n",
    "    for word in sent:\n",
    "        if word not in word_to_ix:  # word has not been assigned an index yet\n",
    "            word_to_ix[word] = len(word_to_ix)  # Assign each word with a unique index\n",
    "\n",
    "\n",
    "tag_to_ix = {\n",
    "    \"O\": 0,\n",
    "    \"B-Object\": 1,\n",
    "    \"I-Object\": 2,\n",
    "    \"B-Aspect\": 3,\n",
    "    \"I-Aspect\": 4,\n",
    "    \"B-Predicate\": 5,\n",
    "    \"I-Predicate\": 6\n",
    "}  # Assign each tag with a unique index\n",
    "\n",
    "idx_to_tag = dict(map(reversed, tag_to_ix.items()))\n",
    "\n",
    "EMBEDDING_DIM = 32\n",
    "HIDDEN_DIM = 64"
   ]
  },
  {
   "cell_type": "code",
   "execution_count": 191,
   "metadata": {},
   "outputs": [],
   "source": [
    "# Формировываем списки для предложений и меток без padding\n",
    "training_data_tags = [[torch.Tensor([tag_to_ix[w] for w in x[1]]).long()] for x in training_data]\n",
    "training_data_sentences = [[torch.Tensor([word_to_ix[w] for w in x[0]]).long()] for x in training_data]"
   ]
  },
  {
   "cell_type": "markdown",
   "metadata": {
    "id": "27DtLuc4jVU_"
   },
   "source": [
    "# Tagger"
   ]
  },
  {
   "cell_type": "markdown",
   "metadata": {
    "id": "-gpSyN6CIOAL"
   },
   "source": [
    "Опишите архитектуру нейросети. Все необходимые слои описаны в комментариях. В качестве выхода из модели используйте логистический softmax:"
   ]
  },
  {
   "cell_type": "markdown",
   "metadata": {
    "id": "OHsmR9bbD17g"
   },
   "source": [
    "![изображение.png](data:image/png;base64,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)"
   ]
  },
  {
   "cell_type": "code",
   "execution_count": 239,
   "metadata": {
    "id": "0t9SrivpjVVA"
   },
   "outputs": [],
   "source": [
    "class LSTMTagger(nn.Module):\n",
    "\n",
    "    def __init__(self, embedding_dim, hidden_dim, vocab_size, tagset_size):\n",
    "        super(LSTMTagger, self).__init__()\n",
    "        torch.manual_seed(5)\n",
    "        torch.cuda.manual_seed(5)\n",
    "        torch.backends.cudnn.deterministic = True\n",
    "        torch.backends.cudnn.benchmark = False\n",
    "        self.hidden_dim = hidden_dim\n",
    "        # The Embedding layer with size of the dictionary vocab_size\n",
    "        self.embedding = nn.Embedding(vocab_size, embedding_dim) # YOUR CODE HERE\n",
    "        # The LSTM takes word embeddings as inputs, and outputs hidden states\n",
    "        # with dimensionality hidden_dim.\n",
    "        self.rnn = nn.LSTM(embedding_dim, hidden_dim) # YOUR CODE HERE\n",
    "\n",
    "        # The linear layer that maps from hidden state space to tag space\n",
    "        self.fc = nn.Linear(hidden_dim, tagset_size) # YOUR CODE HERE\n",
    "\n",
    "    def forward(self, sentence):\n",
    "        emb = self.embedding(sentence)\n",
    "        rnn, _ = self.rnn(emb)  # [L, N, hidden_dim]\n",
    "        \n",
    "        # Передаем всю последовательность через сеть\n",
    "        fc = self.fc(rnn)  # [L, N, tagset_size]\n",
    "        logsoftmax = nn.LogSoftmax(dim=2)  # Применяем LogSoftmax по ориентации на класс\n",
    "        tag_scores = logsoftmax(fc)  # [L, N, tagset_size]\n",
    "        \n",
    "        return tag_scores\n"
   ]
  },
  {
   "cell_type": "markdown",
   "metadata": {
    "id": "CixPZbLqjVVA"
   },
   "source": [
    "# Training\n",
    "\n",
    "Обучите модель с представленными ниже параметрами."
   ]
  },
  {
   "cell_type": "code",
   "execution_count": 274,
   "metadata": {
    "id": "EriYw-bCjVVA"
   },
   "outputs": [],
   "source": [
    "model = LSTMTagger(EMBEDDING_DIM, HIDDEN_DIM, len(word_to_ix), len(tag_to_ix))\n",
    "loss_function = nn.NLLLoss()\n",
    "optimizer = optim.SGD(model.parameters(), lr=0.1)"
   ]
  },
  {
   "cell_type": "code",
   "execution_count": 275,
   "metadata": {
    "id": "IQMTfQWfjVVB"
   },
   "outputs": [
    {
     "name": "stderr",
     "output_type": "stream",
     "text": [
      "  0%|▎                                                                                 | 1/300 [00:02<10:28,  2.10s/it]"
     ]
    },
    {
     "name": "stdout",
     "output_type": "stream",
     "text": [
      "Epoch 1, Average Loss: 1.9489020109176636\n"
     ]
    },
    {
     "name": "stderr",
     "output_type": "stream",
     "text": [
      "  1%|▌                                                                                 | 2/300 [00:04<10:28,  2.11s/it]"
     ]
    },
    {
     "name": "stdout",
     "output_type": "stream",
     "text": [
      "Epoch 2, Average Loss: 40.4881706237793\n"
     ]
    },
    {
     "name": "stderr",
     "output_type": "stream",
     "text": [
      "  1%|▊                                                                                 | 3/300 [00:06<10:59,  2.22s/it]"
     ]
    },
    {
     "name": "stdout",
     "output_type": "stream",
     "text": [
      "Epoch 3, Average Loss: 237.33750915527344\n"
     ]
    },
    {
     "name": "stderr",
     "output_type": "stream",
     "text": [
      "  1%|█                                                                                 | 4/300 [00:08<10:46,  2.18s/it]"
     ]
    },
    {
     "name": "stdout",
     "output_type": "stream",
     "text": [
      "Epoch 4, Average Loss: 430.3122253417969\n"
     ]
    },
    {
     "name": "stderr",
     "output_type": "stream",
     "text": [
      "  2%|█▎                                                                                | 5/300 [00:10<10:38,  2.16s/it]"
     ]
    },
    {
     "name": "stdout",
     "output_type": "stream",
     "text": [
      "Epoch 5, Average Loss: 155.8293914794922\n"
     ]
    },
    {
     "name": "stderr",
     "output_type": "stream",
     "text": [
      "  2%|█▋                                                                                | 6/300 [00:12<10:30,  2.15s/it]"
     ]
    },
    {
     "name": "stdout",
     "output_type": "stream",
     "text": [
      "Epoch 6, Average Loss: 109.67700958251953\n"
     ]
    },
    {
     "name": "stderr",
     "output_type": "stream",
     "text": [
      "  2%|█▉                                                                                | 7/300 [00:15<10:26,  2.14s/it]"
     ]
    },
    {
     "name": "stdout",
     "output_type": "stream",
     "text": [
      "Epoch 7, Average Loss: 84.04830932617188\n"
     ]
    },
    {
     "name": "stderr",
     "output_type": "stream",
     "text": [
      "  3%|██▏                                                                               | 8/300 [00:17<10:28,  2.15s/it]"
     ]
    },
    {
     "name": "stdout",
     "output_type": "stream",
     "text": [
      "Epoch 8, Average Loss: 69.69403076171875\n"
     ]
    },
    {
     "name": "stderr",
     "output_type": "stream",
     "text": [
      "  3%|██▍                                                                               | 9/300 [00:19<10:21,  2.14s/it]"
     ]
    },
    {
     "name": "stdout",
     "output_type": "stream",
     "text": [
      "Epoch 9, Average Loss: 73.76962280273438\n"
     ]
    },
    {
     "name": "stderr",
     "output_type": "stream",
     "text": [
      "  3%|██▋                                                                              | 10/300 [00:21<10:20,  2.14s/it]"
     ]
    },
    {
     "name": "stdout",
     "output_type": "stream",
     "text": [
      "Epoch 10, Average Loss: 60.903564453125\n"
     ]
    },
    {
     "name": "stderr",
     "output_type": "stream",
     "text": [
      "  4%|██▉                                                                              | 11/300 [00:23<10:15,  2.13s/it]"
     ]
    },
    {
     "name": "stdout",
     "output_type": "stream",
     "text": [
      "Epoch 11, Average Loss: 53.75703048706055\n"
     ]
    },
    {
     "name": "stderr",
     "output_type": "stream",
     "text": [
      "  4%|███▏                                                                             | 12/300 [00:25<10:12,  2.13s/it]"
     ]
    },
    {
     "name": "stdout",
     "output_type": "stream",
     "text": [
      "Epoch 12, Average Loss: 43.609771728515625\n"
     ]
    },
    {
     "name": "stderr",
     "output_type": "stream",
     "text": [
      "  4%|███▌                                                                             | 13/300 [00:27<10:09,  2.12s/it]"
     ]
    },
    {
     "name": "stdout",
     "output_type": "stream",
     "text": [
      "Epoch 13, Average Loss: 37.710296630859375\n"
     ]
    },
    {
     "name": "stderr",
     "output_type": "stream",
     "text": [
      "  5%|███▊                                                                             | 14/300 [00:29<10:06,  2.12s/it]"
     ]
    },
    {
     "name": "stdout",
     "output_type": "stream",
     "text": [
      "Epoch 14, Average Loss: 41.55281448364258\n"
     ]
    },
    {
     "name": "stderr",
     "output_type": "stream",
     "text": [
      "  5%|████                                                                             | 15/300 [00:32<10:05,  2.12s/it]"
     ]
    },
    {
     "name": "stdout",
     "output_type": "stream",
     "text": [
      "Epoch 15, Average Loss: 53.52937698364258\n"
     ]
    },
    {
     "name": "stderr",
     "output_type": "stream",
     "text": [
      "  5%|████▎                                                                            | 16/300 [00:34<10:04,  2.13s/it]"
     ]
    },
    {
     "name": "stdout",
     "output_type": "stream",
     "text": [
      "Epoch 16, Average Loss: 39.165855407714844\n"
     ]
    },
    {
     "name": "stderr",
     "output_type": "stream",
     "text": [
      "  6%|████▌                                                                            | 17/300 [00:36<10:00,  2.12s/it]"
     ]
    },
    {
     "name": "stdout",
     "output_type": "stream",
     "text": [
      "Epoch 17, Average Loss: 36.65617752075195\n"
     ]
    },
    {
     "name": "stderr",
     "output_type": "stream",
     "text": [
      "  6%|████▊                                                                            | 18/300 [00:38<09:58,  2.12s/it]"
     ]
    },
    {
     "name": "stdout",
     "output_type": "stream",
     "text": [
      "Epoch 18, Average Loss: 32.87516784667969\n"
     ]
    },
    {
     "name": "stderr",
     "output_type": "stream",
     "text": [
      "  6%|█████▏                                                                           | 19/300 [00:40<09:57,  2.13s/it]"
     ]
    },
    {
     "name": "stdout",
     "output_type": "stream",
     "text": [
      "Epoch 19, Average Loss: 35.68231964111328\n"
     ]
    },
    {
     "name": "stderr",
     "output_type": "stream",
     "text": [
      "  7%|█████▍                                                                           | 20/300 [00:42<09:58,  2.14s/it]"
     ]
    },
    {
     "name": "stdout",
     "output_type": "stream",
     "text": [
      "Epoch 20, Average Loss: 29.64942169189453\n"
     ]
    },
    {
     "name": "stderr",
     "output_type": "stream",
     "text": [
      "  7%|█████▋                                                                           | 21/300 [00:44<09:55,  2.13s/it]"
     ]
    },
    {
     "name": "stdout",
     "output_type": "stream",
     "text": [
      "Epoch 21, Average Loss: 27.607746124267578\n"
     ]
    },
    {
     "name": "stderr",
     "output_type": "stream",
     "text": [
      "  7%|█████▉                                                                           | 22/300 [00:47<09:54,  2.14s/it]"
     ]
    },
    {
     "name": "stdout",
     "output_type": "stream",
     "text": [
      "Epoch 22, Average Loss: 29.269588470458984\n"
     ]
    },
    {
     "name": "stderr",
     "output_type": "stream",
     "text": [
      "  8%|██████▏                                                                          | 23/300 [00:49<09:56,  2.15s/it]"
     ]
    },
    {
     "name": "stdout",
     "output_type": "stream",
     "text": [
      "Epoch 23, Average Loss: 42.176536560058594\n"
     ]
    },
    {
     "name": "stderr",
     "output_type": "stream",
     "text": [
      "  8%|██████▍                                                                          | 24/300 [00:51<09:51,  2.14s/it]"
     ]
    },
    {
     "name": "stdout",
     "output_type": "stream",
     "text": [
      "Epoch 24, Average Loss: 30.728008270263672\n"
     ]
    },
    {
     "name": "stderr",
     "output_type": "stream",
     "text": [
      "  8%|██████▊                                                                          | 25/300 [00:53<09:52,  2.16s/it]"
     ]
    },
    {
     "name": "stdout",
     "output_type": "stream",
     "text": [
      "Epoch 25, Average Loss: 35.88923645019531\n"
     ]
    },
    {
     "name": "stderr",
     "output_type": "stream",
     "text": [
      "  9%|███████                                                                          | 26/300 [00:55<09:47,  2.14s/it]"
     ]
    },
    {
     "name": "stdout",
     "output_type": "stream",
     "text": [
      "Epoch 26, Average Loss: 28.722238540649414\n"
     ]
    },
    {
     "name": "stderr",
     "output_type": "stream",
     "text": [
      "  9%|███████▎                                                                         | 27/300 [00:57<09:40,  2.13s/it]"
     ]
    },
    {
     "name": "stdout",
     "output_type": "stream",
     "text": [
      "Epoch 27, Average Loss: 40.50995635986328\n"
     ]
    },
    {
     "name": "stderr",
     "output_type": "stream",
     "text": [
      "  9%|███████▌                                                                         | 28/300 [00:59<09:39,  2.13s/it]"
     ]
    },
    {
     "name": "stdout",
     "output_type": "stream",
     "text": [
      "Epoch 28, Average Loss: 30.678491592407227\n"
     ]
    },
    {
     "name": "stderr",
     "output_type": "stream",
     "text": [
      " 10%|███████▊                                                                         | 29/300 [01:01<09:37,  2.13s/it]"
     ]
    },
    {
     "name": "stdout",
     "output_type": "stream",
     "text": [
      "Epoch 29, Average Loss: 29.275672912597656\n"
     ]
    },
    {
     "name": "stderr",
     "output_type": "stream",
     "text": [
      " 10%|████████                                                                         | 30/300 [01:04<09:35,  2.13s/it]"
     ]
    },
    {
     "name": "stdout",
     "output_type": "stream",
     "text": [
      "Epoch 30, Average Loss: 25.57602882385254\n"
     ]
    },
    {
     "name": "stderr",
     "output_type": "stream",
     "text": [
      " 10%|████████▎                                                                        | 31/300 [01:06<09:31,  2.13s/it]"
     ]
    },
    {
     "name": "stdout",
     "output_type": "stream",
     "text": [
      "Epoch 31, Average Loss: 37.24549102783203\n"
     ]
    },
    {
     "name": "stderr",
     "output_type": "stream",
     "text": [
      " 11%|████████▋                                                                        | 32/300 [01:08<09:30,  2.13s/it]"
     ]
    },
    {
     "name": "stdout",
     "output_type": "stream",
     "text": [
      "Epoch 32, Average Loss: 24.369279861450195\n"
     ]
    },
    {
     "name": "stderr",
     "output_type": "stream",
     "text": [
      " 11%|████████▉                                                                        | 33/300 [01:10<09:29,  2.13s/it]"
     ]
    },
    {
     "name": "stdout",
     "output_type": "stream",
     "text": [
      "Epoch 33, Average Loss: 27.455299377441406\n"
     ]
    },
    {
     "name": "stderr",
     "output_type": "stream",
     "text": [
      " 11%|█████████▏                                                                       | 34/300 [01:12<09:27,  2.13s/it]"
     ]
    },
    {
     "name": "stdout",
     "output_type": "stream",
     "text": [
      "Epoch 34, Average Loss: 27.012304306030273\n"
     ]
    },
    {
     "name": "stderr",
     "output_type": "stream",
     "text": [
      " 12%|█████████▍                                                                       | 35/300 [01:14<09:23,  2.13s/it]"
     ]
    },
    {
     "name": "stdout",
     "output_type": "stream",
     "text": [
      "Epoch 35, Average Loss: 30.027671813964844\n"
     ]
    },
    {
     "name": "stderr",
     "output_type": "stream",
     "text": [
      " 12%|█████████▋                                                                       | 36/300 [01:16<09:20,  2.12s/it]"
     ]
    },
    {
     "name": "stdout",
     "output_type": "stream",
     "text": [
      "Epoch 36, Average Loss: 32.505184173583984\n"
     ]
    },
    {
     "name": "stderr",
     "output_type": "stream",
     "text": [
      " 12%|█████████▉                                                                       | 37/300 [01:19<09:22,  2.14s/it]"
     ]
    },
    {
     "name": "stdout",
     "output_type": "stream",
     "text": [
      "Epoch 37, Average Loss: 25.996292114257812\n"
     ]
    },
    {
     "name": "stderr",
     "output_type": "stream",
     "text": [
      " 13%|██████████▎                                                                      | 38/300 [01:21<09:18,  2.13s/it]"
     ]
    },
    {
     "name": "stdout",
     "output_type": "stream",
     "text": [
      "Epoch 38, Average Loss: 26.442562103271484\n"
     ]
    },
    {
     "name": "stderr",
     "output_type": "stream",
     "text": [
      " 13%|██████████▌                                                                      | 39/300 [01:23<09:12,  2.12s/it]"
     ]
    },
    {
     "name": "stdout",
     "output_type": "stream",
     "text": [
      "Epoch 39, Average Loss: 40.865169525146484\n"
     ]
    },
    {
     "name": "stderr",
     "output_type": "stream",
     "text": [
      " 13%|██████████▊                                                                      | 40/300 [01:25<09:18,  2.15s/it]"
     ]
    },
    {
     "name": "stdout",
     "output_type": "stream",
     "text": [
      "Epoch 40, Average Loss: 31.074857711791992\n"
     ]
    },
    {
     "name": "stderr",
     "output_type": "stream",
     "text": [
      " 14%|███████████                                                                      | 41/300 [01:27<09:11,  2.13s/it]"
     ]
    },
    {
     "name": "stdout",
     "output_type": "stream",
     "text": [
      "Epoch 41, Average Loss: 39.02958297729492\n"
     ]
    },
    {
     "name": "stderr",
     "output_type": "stream",
     "text": [
      " 14%|███████████▎                                                                     | 42/300 [01:29<09:11,  2.14s/it]"
     ]
    },
    {
     "name": "stdout",
     "output_type": "stream",
     "text": [
      "Epoch 42, Average Loss: 24.368623733520508\n"
     ]
    },
    {
     "name": "stderr",
     "output_type": "stream",
     "text": [
      " 14%|███████████▌                                                                     | 43/300 [01:31<09:07,  2.13s/it]"
     ]
    },
    {
     "name": "stdout",
     "output_type": "stream",
     "text": [
      "Epoch 43, Average Loss: 24.033004760742188\n"
     ]
    },
    {
     "name": "stderr",
     "output_type": "stream",
     "text": [
      " 15%|███████████▉                                                                     | 44/300 [01:33<09:02,  2.12s/it]"
     ]
    },
    {
     "name": "stdout",
     "output_type": "stream",
     "text": [
      "Epoch 44, Average Loss: 29.42530632019043\n"
     ]
    },
    {
     "name": "stderr",
     "output_type": "stream",
     "text": [
      " 15%|████████████▏                                                                    | 45/300 [01:35<08:58,  2.11s/it]"
     ]
    },
    {
     "name": "stdout",
     "output_type": "stream",
     "text": [
      "Epoch 45, Average Loss: 43.8139533996582\n"
     ]
    },
    {
     "name": "stderr",
     "output_type": "stream",
     "text": [
      " 15%|████████████▍                                                                    | 46/300 [01:38<08:55,  2.11s/it]"
     ]
    },
    {
     "name": "stdout",
     "output_type": "stream",
     "text": [
      "Epoch 46, Average Loss: 24.03484344482422\n"
     ]
    },
    {
     "name": "stderr",
     "output_type": "stream",
     "text": [
      " 16%|████████████▋                                                                    | 47/300 [01:40<08:55,  2.11s/it]"
     ]
    },
    {
     "name": "stdout",
     "output_type": "stream",
     "text": [
      "Epoch 47, Average Loss: 19.90448570251465\n"
     ]
    },
    {
     "name": "stderr",
     "output_type": "stream",
     "text": [
      " 16%|████████████▉                                                                    | 48/300 [01:42<08:54,  2.12s/it]"
     ]
    },
    {
     "name": "stdout",
     "output_type": "stream",
     "text": [
      "Epoch 48, Average Loss: 18.768808364868164\n"
     ]
    },
    {
     "name": "stderr",
     "output_type": "stream",
     "text": [
      " 16%|█████████████▏                                                                   | 49/300 [01:44<08:57,  2.14s/it]"
     ]
    },
    {
     "name": "stdout",
     "output_type": "stream",
     "text": [
      "Epoch 49, Average Loss: 22.031164169311523\n"
     ]
    },
    {
     "name": "stderr",
     "output_type": "stream",
     "text": [
      " 17%|█████████████▌                                                                   | 50/300 [01:46<09:10,  2.20s/it]"
     ]
    },
    {
     "name": "stdout",
     "output_type": "stream",
     "text": [
      "Epoch 50, Average Loss: 25.30636978149414\n"
     ]
    },
    {
     "name": "stderr",
     "output_type": "stream",
     "text": [
      " 17%|█████████████▊                                                                   | 51/300 [01:49<09:11,  2.22s/it]"
     ]
    },
    {
     "name": "stdout",
     "output_type": "stream",
     "text": [
      "Epoch 51, Average Loss: 41.34693145751953\n"
     ]
    },
    {
     "name": "stderr",
     "output_type": "stream",
     "text": [
      " 17%|██████████████                                                                   | 52/300 [01:51<09:21,  2.26s/it]"
     ]
    },
    {
     "name": "stdout",
     "output_type": "stream",
     "text": [
      "Epoch 52, Average Loss: 22.287221908569336\n"
     ]
    },
    {
     "name": "stderr",
     "output_type": "stream",
     "text": [
      " 18%|██████████████▎                                                                  | 53/300 [01:53<09:22,  2.28s/it]"
     ]
    },
    {
     "name": "stdout",
     "output_type": "stream",
     "text": [
      "Epoch 53, Average Loss: 20.2816219329834\n"
     ]
    },
    {
     "name": "stderr",
     "output_type": "stream",
     "text": [
      " 18%|██████████████▌                                                                  | 54/300 [01:56<09:15,  2.26s/it]"
     ]
    },
    {
     "name": "stdout",
     "output_type": "stream",
     "text": [
      "Epoch 54, Average Loss: 21.82488250732422\n"
     ]
    },
    {
     "name": "stderr",
     "output_type": "stream",
     "text": [
      " 18%|██████████████▊                                                                  | 55/300 [01:58<09:03,  2.22s/it]"
     ]
    },
    {
     "name": "stdout",
     "output_type": "stream",
     "text": [
      "Epoch 55, Average Loss: 23.587255477905273\n"
     ]
    },
    {
     "name": "stderr",
     "output_type": "stream",
     "text": [
      " 19%|███████████████                                                                  | 56/300 [02:00<08:52,  2.18s/it]"
     ]
    },
    {
     "name": "stdout",
     "output_type": "stream",
     "text": [
      "Epoch 56, Average Loss: 38.701942443847656\n"
     ]
    },
    {
     "name": "stderr",
     "output_type": "stream",
     "text": [
      " 19%|███████████████▍                                                                 | 57/300 [02:02<08:48,  2.18s/it]"
     ]
    },
    {
     "name": "stdout",
     "output_type": "stream",
     "text": [
      "Epoch 57, Average Loss: 23.161462783813477\n"
     ]
    },
    {
     "name": "stderr",
     "output_type": "stream",
     "text": [
      " 19%|███████████████▋                                                                 | 58/300 [02:04<08:43,  2.16s/it]"
     ]
    },
    {
     "name": "stdout",
     "output_type": "stream",
     "text": [
      "Epoch 58, Average Loss: 21.84400177001953\n"
     ]
    },
    {
     "name": "stderr",
     "output_type": "stream",
     "text": [
      " 20%|███████████████▉                                                                 | 59/300 [02:06<08:39,  2.16s/it]"
     ]
    },
    {
     "name": "stdout",
     "output_type": "stream",
     "text": [
      "Epoch 59, Average Loss: 24.170440673828125\n"
     ]
    },
    {
     "name": "stderr",
     "output_type": "stream",
     "text": [
      " 20%|████████████████▏                                                                | 60/300 [02:08<08:35,  2.15s/it]"
     ]
    },
    {
     "name": "stdout",
     "output_type": "stream",
     "text": [
      "Epoch 60, Average Loss: 36.987937927246094\n"
     ]
    },
    {
     "name": "stderr",
     "output_type": "stream",
     "text": [
      " 20%|████████████████▍                                                                | 61/300 [02:10<08:34,  2.15s/it]"
     ]
    },
    {
     "name": "stdout",
     "output_type": "stream",
     "text": [
      "Epoch 61, Average Loss: 19.866989135742188\n"
     ]
    },
    {
     "name": "stderr",
     "output_type": "stream",
     "text": [
      " 21%|████████████████▋                                                                | 62/300 [02:13<08:28,  2.14s/it]"
     ]
    },
    {
     "name": "stdout",
     "output_type": "stream",
     "text": [
      "Epoch 62, Average Loss: 16.733081817626953\n"
     ]
    },
    {
     "name": "stderr",
     "output_type": "stream",
     "text": [
      " 21%|█████████████████                                                                | 63/300 [02:15<08:26,  2.14s/it]"
     ]
    },
    {
     "name": "stdout",
     "output_type": "stream",
     "text": [
      "Epoch 63, Average Loss: 16.273021697998047\n"
     ]
    },
    {
     "name": "stderr",
     "output_type": "stream",
     "text": [
      " 21%|█████████████████▎                                                               | 64/300 [02:17<08:28,  2.15s/it]"
     ]
    },
    {
     "name": "stdout",
     "output_type": "stream",
     "text": [
      "Epoch 64, Average Loss: 20.011260986328125\n"
     ]
    },
    {
     "name": "stderr",
     "output_type": "stream",
     "text": [
      " 22%|█████████████████▌                                                               | 65/300 [02:19<08:36,  2.20s/it]"
     ]
    },
    {
     "name": "stdout",
     "output_type": "stream",
     "text": [
      "Epoch 65, Average Loss: 39.154598236083984\n"
     ]
    },
    {
     "name": "stderr",
     "output_type": "stream",
     "text": [
      " 22%|█████████████████▊                                                               | 66/300 [02:21<08:31,  2.18s/it]"
     ]
    },
    {
     "name": "stdout",
     "output_type": "stream",
     "text": [
      "Epoch 66, Average Loss: 18.16269302368164\n"
     ]
    },
    {
     "name": "stderr",
     "output_type": "stream",
     "text": [
      " 22%|██████████████████                                                               | 67/300 [02:24<08:27,  2.18s/it]"
     ]
    },
    {
     "name": "stdout",
     "output_type": "stream",
     "text": [
      "Epoch 67, Average Loss: 15.625256538391113\n"
     ]
    },
    {
     "name": "stderr",
     "output_type": "stream",
     "text": [
      " 23%|██████████████████▎                                                              | 68/300 [02:26<08:22,  2.16s/it]"
     ]
    },
    {
     "name": "stdout",
     "output_type": "stream",
     "text": [
      "Epoch 68, Average Loss: 14.425863265991211\n"
     ]
    },
    {
     "name": "stderr",
     "output_type": "stream",
     "text": [
      " 23%|██████████████████▋                                                              | 69/300 [02:28<08:15,  2.14s/it]"
     ]
    },
    {
     "name": "stdout",
     "output_type": "stream",
     "text": [
      "Epoch 69, Average Loss: 17.027463912963867\n"
     ]
    },
    {
     "name": "stderr",
     "output_type": "stream",
     "text": [
      " 23%|██████████████████▉                                                              | 70/300 [02:30<08:11,  2.14s/it]"
     ]
    },
    {
     "name": "stdout",
     "output_type": "stream",
     "text": [
      "Epoch 70, Average Loss: 33.39667892456055\n"
     ]
    },
    {
     "name": "stderr",
     "output_type": "stream",
     "text": [
      " 24%|███████████████████▏                                                             | 71/300 [02:32<08:09,  2.14s/it]"
     ]
    },
    {
     "name": "stdout",
     "output_type": "stream",
     "text": [
      "Epoch 71, Average Loss: 16.874347686767578\n"
     ]
    },
    {
     "name": "stderr",
     "output_type": "stream",
     "text": [
      " 24%|███████████████████▍                                                             | 72/300 [02:34<08:07,  2.14s/it]"
     ]
    },
    {
     "name": "stdout",
     "output_type": "stream",
     "text": [
      "Epoch 72, Average Loss: 19.222618103027344\n"
     ]
    },
    {
     "name": "stderr",
     "output_type": "stream",
     "text": [
      " 24%|███████████████████▋                                                             | 73/300 [02:36<08:02,  2.13s/it]"
     ]
    },
    {
     "name": "stdout",
     "output_type": "stream",
     "text": [
      "Epoch 73, Average Loss: 23.418842315673828\n"
     ]
    },
    {
     "name": "stderr",
     "output_type": "stream",
     "text": [
      " 25%|███████████████████▉                                                             | 74/300 [02:38<07:58,  2.12s/it]"
     ]
    },
    {
     "name": "stdout",
     "output_type": "stream",
     "text": [
      "Epoch 74, Average Loss: 46.065948486328125\n"
     ]
    },
    {
     "name": "stderr",
     "output_type": "stream",
     "text": [
      " 25%|████████████████████▎                                                            | 75/300 [02:41<07:59,  2.13s/it]"
     ]
    },
    {
     "name": "stdout",
     "output_type": "stream",
     "text": [
      "Epoch 75, Average Loss: 20.443809509277344\n"
     ]
    },
    {
     "name": "stderr",
     "output_type": "stream",
     "text": [
      " 25%|████████████████████▌                                                            | 76/300 [02:43<07:58,  2.13s/it]"
     ]
    },
    {
     "name": "stdout",
     "output_type": "stream",
     "text": [
      "Epoch 76, Average Loss: 18.24799156188965\n"
     ]
    },
    {
     "name": "stderr",
     "output_type": "stream",
     "text": [
      " 26%|████████████████████▊                                                            | 77/300 [02:45<07:56,  2.14s/it]"
     ]
    },
    {
     "name": "stdout",
     "output_type": "stream",
     "text": [
      "Epoch 77, Average Loss: 23.99786949157715\n"
     ]
    },
    {
     "name": "stderr",
     "output_type": "stream",
     "text": [
      " 26%|█████████████████████                                                            | 78/300 [02:47<07:52,  2.13s/it]"
     ]
    },
    {
     "name": "stdout",
     "output_type": "stream",
     "text": [
      "Epoch 78, Average Loss: 17.903066635131836\n"
     ]
    },
    {
     "name": "stderr",
     "output_type": "stream",
     "text": [
      " 26%|█████████████████████▎                                                           | 79/300 [02:49<07:51,  2.13s/it]"
     ]
    },
    {
     "name": "stdout",
     "output_type": "stream",
     "text": [
      "Epoch 79, Average Loss: 34.327266693115234\n"
     ]
    },
    {
     "name": "stderr",
     "output_type": "stream",
     "text": [
      " 27%|█████████████████████▌                                                           | 80/300 [02:51<07:46,  2.12s/it]"
     ]
    },
    {
     "name": "stdout",
     "output_type": "stream",
     "text": [
      "Epoch 80, Average Loss: 15.316572189331055\n"
     ]
    },
    {
     "name": "stderr",
     "output_type": "stream",
     "text": [
      " 27%|█████████████████████▊                                                           | 81/300 [02:53<07:45,  2.12s/it]"
     ]
    },
    {
     "name": "stdout",
     "output_type": "stream",
     "text": [
      "Epoch 81, Average Loss: 12.490572929382324\n"
     ]
    },
    {
     "name": "stderr",
     "output_type": "stream",
     "text": [
      " 27%|██████████████████████▏                                                          | 82/300 [02:55<07:46,  2.14s/it]"
     ]
    },
    {
     "name": "stdout",
     "output_type": "stream",
     "text": [
      "Epoch 82, Average Loss: 11.302725791931152\n"
     ]
    },
    {
     "name": "stderr",
     "output_type": "stream",
     "text": [
      " 28%|██████████████████████▍                                                          | 83/300 [02:58<07:42,  2.13s/it]"
     ]
    },
    {
     "name": "stdout",
     "output_type": "stream",
     "text": [
      "Epoch 83, Average Loss: 13.518427848815918\n"
     ]
    },
    {
     "name": "stderr",
     "output_type": "stream",
     "text": [
      " 28%|██████████████████████▋                                                          | 84/300 [03:00<07:43,  2.15s/it]"
     ]
    },
    {
     "name": "stdout",
     "output_type": "stream",
     "text": [
      "Epoch 84, Average Loss: 15.790882110595703\n"
     ]
    },
    {
     "name": "stderr",
     "output_type": "stream",
     "text": [
      " 28%|██████████████████████▉                                                          | 85/300 [03:02<07:39,  2.14s/it]"
     ]
    },
    {
     "name": "stdout",
     "output_type": "stream",
     "text": [
      "Epoch 85, Average Loss: 34.61697006225586\n"
     ]
    },
    {
     "name": "stderr",
     "output_type": "stream",
     "text": [
      " 29%|███████████████████████▏                                                         | 86/300 [03:04<07:36,  2.13s/it]"
     ]
    },
    {
     "name": "stdout",
     "output_type": "stream",
     "text": [
      "Epoch 86, Average Loss: 12.722997665405273\n"
     ]
    },
    {
     "name": "stderr",
     "output_type": "stream",
     "text": [
      " 29%|███████████████████████▍                                                         | 87/300 [03:06<07:31,  2.12s/it]"
     ]
    },
    {
     "name": "stdout",
     "output_type": "stream",
     "text": [
      "Epoch 87, Average Loss: 12.690646171569824\n"
     ]
    },
    {
     "name": "stderr",
     "output_type": "stream",
     "text": [
      " 29%|███████████████████████▊                                                         | 88/300 [03:08<07:29,  2.12s/it]"
     ]
    },
    {
     "name": "stdout",
     "output_type": "stream",
     "text": [
      "Epoch 88, Average Loss: 24.31882095336914\n"
     ]
    },
    {
     "name": "stderr",
     "output_type": "stream",
     "text": [
      " 30%|████████████████████████                                                         | 89/300 [03:10<07:32,  2.14s/it]"
     ]
    },
    {
     "name": "stdout",
     "output_type": "stream",
     "text": [
      "Epoch 89, Average Loss: 18.20290756225586\n"
     ]
    },
    {
     "name": "stderr",
     "output_type": "stream",
     "text": [
      " 30%|████████████████████████▎                                                        | 90/300 [03:13<07:30,  2.15s/it]"
     ]
    },
    {
     "name": "stdout",
     "output_type": "stream",
     "text": [
      "Epoch 90, Average Loss: 26.961788177490234\n"
     ]
    },
    {
     "name": "stderr",
     "output_type": "stream",
     "text": [
      " 30%|████████████████████████▌                                                        | 91/300 [03:15<07:25,  2.13s/it]"
     ]
    },
    {
     "name": "stdout",
     "output_type": "stream",
     "text": [
      "Epoch 91, Average Loss: 20.051990509033203\n"
     ]
    },
    {
     "name": "stderr",
     "output_type": "stream",
     "text": [
      " 31%|████████████████████████▊                                                        | 92/300 [03:17<07:21,  2.12s/it]"
     ]
    },
    {
     "name": "stdout",
     "output_type": "stream",
     "text": [
      "Epoch 92, Average Loss: 40.278785705566406\n"
     ]
    },
    {
     "name": "stderr",
     "output_type": "stream",
     "text": [
      " 31%|█████████████████████████                                                        | 93/300 [03:19<07:21,  2.13s/it]"
     ]
    },
    {
     "name": "stdout",
     "output_type": "stream",
     "text": [
      "Epoch 93, Average Loss: 15.655515670776367\n"
     ]
    },
    {
     "name": "stderr",
     "output_type": "stream",
     "text": [
      " 31%|█████████████████████████▍                                                       | 94/300 [03:21<07:18,  2.13s/it]"
     ]
    },
    {
     "name": "stdout",
     "output_type": "stream",
     "text": [
      "Epoch 94, Average Loss: 13.284598350524902\n"
     ]
    },
    {
     "name": "stderr",
     "output_type": "stream",
     "text": [
      " 32%|█████████████████████████▋                                                       | 95/300 [03:23<07:17,  2.13s/it]"
     ]
    },
    {
     "name": "stdout",
     "output_type": "stream",
     "text": [
      "Epoch 95, Average Loss: 19.50492286682129\n"
     ]
    },
    {
     "name": "stderr",
     "output_type": "stream",
     "text": [
      " 32%|█████████████████████████▉                                                       | 96/300 [03:25<07:12,  2.12s/it]"
     ]
    },
    {
     "name": "stdout",
     "output_type": "stream",
     "text": [
      "Epoch 96, Average Loss: 25.436689376831055\n"
     ]
    },
    {
     "name": "stderr",
     "output_type": "stream",
     "text": [
      " 32%|██████████████████████████▏                                                      | 97/300 [03:27<07:07,  2.11s/it]"
     ]
    },
    {
     "name": "stdout",
     "output_type": "stream",
     "text": [
      "Epoch 97, Average Loss: 58.05106735229492\n"
     ]
    },
    {
     "name": "stderr",
     "output_type": "stream",
     "text": [
      " 33%|██████████████████████████▍                                                      | 98/300 [03:29<07:06,  2.11s/it]"
     ]
    },
    {
     "name": "stdout",
     "output_type": "stream",
     "text": [
      "Epoch 98, Average Loss: 27.95914649963379\n"
     ]
    },
    {
     "name": "stderr",
     "output_type": "stream",
     "text": [
      " 33%|██████████████████████████▋                                                      | 99/300 [03:32<07:05,  2.12s/it]"
     ]
    },
    {
     "name": "stdout",
     "output_type": "stream",
     "text": [
      "Epoch 99, Average Loss: 24.61612892150879\n"
     ]
    },
    {
     "name": "stderr",
     "output_type": "stream",
     "text": [
      " 33%|██████████████████████████▋                                                     | 100/300 [03:34<07:03,  2.12s/it]"
     ]
    },
    {
     "name": "stdout",
     "output_type": "stream",
     "text": [
      "Epoch 100, Average Loss: 35.75893020629883\n"
     ]
    },
    {
     "name": "stderr",
     "output_type": "stream",
     "text": [
      " 34%|██████████████████████████▉                                                     | 101/300 [03:36<07:01,  2.12s/it]"
     ]
    },
    {
     "name": "stdout",
     "output_type": "stream",
     "text": [
      "Epoch 101, Average Loss: 17.903085708618164\n"
     ]
    },
    {
     "name": "stderr",
     "output_type": "stream",
     "text": [
      " 34%|███████████████████████████▏                                                    | 102/300 [03:38<06:59,  2.12s/it]"
     ]
    },
    {
     "name": "stdout",
     "output_type": "stream",
     "text": [
      "Epoch 102, Average Loss: 16.16663932800293\n"
     ]
    },
    {
     "name": "stderr",
     "output_type": "stream",
     "text": [
      " 34%|███████████████████████████▍                                                    | 103/300 [03:40<06:58,  2.13s/it]"
     ]
    },
    {
     "name": "stdout",
     "output_type": "stream",
     "text": [
      "Epoch 103, Average Loss: 13.068255424499512\n"
     ]
    },
    {
     "name": "stderr",
     "output_type": "stream",
     "text": [
      " 35%|███████████████████████████▋                                                    | 104/300 [03:42<06:58,  2.14s/it]"
     ]
    },
    {
     "name": "stdout",
     "output_type": "stream",
     "text": [
      "Epoch 104, Average Loss: 21.763248443603516\n"
     ]
    },
    {
     "name": "stderr",
     "output_type": "stream",
     "text": [
      " 35%|████████████████████████████                                                    | 105/300 [03:45<07:03,  2.17s/it]"
     ]
    },
    {
     "name": "stdout",
     "output_type": "stream",
     "text": [
      "Epoch 105, Average Loss: 18.96832275390625\n"
     ]
    },
    {
     "name": "stderr",
     "output_type": "stream",
     "text": [
      " 35%|████████████████████████████▎                                                   | 106/300 [03:47<07:04,  2.19s/it]"
     ]
    },
    {
     "name": "stdout",
     "output_type": "stream",
     "text": [
      "Epoch 106, Average Loss: 27.201656341552734\n"
     ]
    },
    {
     "name": "stderr",
     "output_type": "stream",
     "text": [
      " 36%|████████████████████████████▌                                                   | 107/300 [03:49<06:57,  2.16s/it]"
     ]
    },
    {
     "name": "stdout",
     "output_type": "stream",
     "text": [
      "Epoch 107, Average Loss: 14.872392654418945\n"
     ]
    },
    {
     "name": "stderr",
     "output_type": "stream",
     "text": [
      " 36%|████████████████████████████▊                                                   | 108/300 [03:51<06:53,  2.15s/it]"
     ]
    },
    {
     "name": "stdout",
     "output_type": "stream",
     "text": [
      "Epoch 108, Average Loss: 24.331647872924805\n"
     ]
    },
    {
     "name": "stderr",
     "output_type": "stream",
     "text": [
      " 36%|█████████████████████████████                                                   | 109/300 [03:53<06:49,  2.14s/it]"
     ]
    },
    {
     "name": "stdout",
     "output_type": "stream",
     "text": [
      "Epoch 109, Average Loss: 18.497997283935547\n"
     ]
    },
    {
     "name": "stderr",
     "output_type": "stream",
     "text": [
      " 37%|█████████████████████████████▎                                                  | 110/300 [03:55<06:45,  2.13s/it]"
     ]
    },
    {
     "name": "stdout",
     "output_type": "stream",
     "text": [
      "Epoch 110, Average Loss: 30.605384826660156\n"
     ]
    },
    {
     "name": "stderr",
     "output_type": "stream",
     "text": [
      " 37%|█████████████████████████████▌                                                  | 111/300 [03:57<06:46,  2.15s/it]"
     ]
    },
    {
     "name": "stdout",
     "output_type": "stream",
     "text": [
      "Epoch 111, Average Loss: 12.151457786560059\n"
     ]
    },
    {
     "name": "stderr",
     "output_type": "stream",
     "text": [
      " 37%|█████████████████████████████▊                                                  | 112/300 [04:00<06:43,  2.14s/it]"
     ]
    },
    {
     "name": "stdout",
     "output_type": "stream",
     "text": [
      "Epoch 112, Average Loss: 11.458154678344727\n"
     ]
    },
    {
     "name": "stderr",
     "output_type": "stream",
     "text": [
      " 38%|██████████████████████████████▏                                                 | 113/300 [04:02<06:37,  2.12s/it]"
     ]
    },
    {
     "name": "stdout",
     "output_type": "stream",
     "text": [
      "Epoch 113, Average Loss: 21.362653732299805\n"
     ]
    },
    {
     "name": "stderr",
     "output_type": "stream",
     "text": [
      " 38%|██████████████████████████████▍                                                 | 114/300 [04:04<06:33,  2.11s/it]"
     ]
    },
    {
     "name": "stdout",
     "output_type": "stream",
     "text": [
      "Epoch 114, Average Loss: 54.856788635253906\n"
     ]
    },
    {
     "name": "stderr",
     "output_type": "stream",
     "text": [
      " 38%|██████████████████████████████▋                                                 | 115/300 [04:06<06:29,  2.11s/it]"
     ]
    },
    {
     "name": "stdout",
     "output_type": "stream",
     "text": [
      "Epoch 115, Average Loss: 23.99705696105957\n"
     ]
    },
    {
     "name": "stderr",
     "output_type": "stream",
     "text": [
      " 39%|██████████████████████████████▉                                                 | 116/300 [04:08<06:29,  2.12s/it]"
     ]
    },
    {
     "name": "stdout",
     "output_type": "stream",
     "text": [
      "Epoch 116, Average Loss: 23.487455368041992\n"
     ]
    },
    {
     "name": "stderr",
     "output_type": "stream",
     "text": [
      " 39%|███████████████████████████████▏                                                | 117/300 [04:10<06:26,  2.11s/it]"
     ]
    },
    {
     "name": "stdout",
     "output_type": "stream",
     "text": [
      "Epoch 117, Average Loss: 35.910152435302734\n"
     ]
    },
    {
     "name": "stderr",
     "output_type": "stream",
     "text": [
      " 39%|███████████████████████████████▍                                                | 118/300 [04:12<06:24,  2.11s/it]"
     ]
    },
    {
     "name": "stdout",
     "output_type": "stream",
     "text": [
      "Epoch 118, Average Loss: 15.368603706359863\n"
     ]
    },
    {
     "name": "stderr",
     "output_type": "stream",
     "text": [
      " 40%|███████████████████████████████▋                                                | 119/300 [04:14<06:24,  2.12s/it]"
     ]
    },
    {
     "name": "stdout",
     "output_type": "stream",
     "text": [
      "Epoch 119, Average Loss: 19.158342361450195\n"
     ]
    },
    {
     "name": "stderr",
     "output_type": "stream",
     "text": [
      " 40%|████████████████████████████████                                                | 120/300 [04:16<06:20,  2.12s/it]"
     ]
    },
    {
     "name": "stdout",
     "output_type": "stream",
     "text": [
      "Epoch 120, Average Loss: 16.047748565673828\n"
     ]
    },
    {
     "name": "stderr",
     "output_type": "stream",
     "text": [
      " 40%|████████████████████████████████▎                                               | 121/300 [04:18<06:16,  2.10s/it]"
     ]
    },
    {
     "name": "stdout",
     "output_type": "stream",
     "text": [
      "Epoch 121, Average Loss: 36.71870803833008\n"
     ]
    },
    {
     "name": "stderr",
     "output_type": "stream",
     "text": [
      " 41%|████████████████████████████████▌                                               | 122/300 [04:21<06:16,  2.12s/it]"
     ]
    },
    {
     "name": "stdout",
     "output_type": "stream",
     "text": [
      "Epoch 122, Average Loss: 12.050436973571777\n"
     ]
    },
    {
     "name": "stderr",
     "output_type": "stream",
     "text": [
      " 41%|████████████████████████████████▊                                               | 123/300 [04:23<06:13,  2.11s/it]"
     ]
    },
    {
     "name": "stdout",
     "output_type": "stream",
     "text": [
      "Epoch 123, Average Loss: 9.499025344848633\n"
     ]
    },
    {
     "name": "stderr",
     "output_type": "stream",
     "text": [
      " 41%|█████████████████████████████████                                               | 124/300 [04:25<06:11,  2.11s/it]"
     ]
    },
    {
     "name": "stdout",
     "output_type": "stream",
     "text": [
      "Epoch 124, Average Loss: 11.837118148803711\n"
     ]
    },
    {
     "name": "stderr",
     "output_type": "stream",
     "text": [
      " 42%|█████████████████████████████████▎                                              | 125/300 [04:27<06:08,  2.10s/it]"
     ]
    },
    {
     "name": "stdout",
     "output_type": "stream",
     "text": [
      "Epoch 125, Average Loss: 17.51061248779297\n"
     ]
    },
    {
     "name": "stderr",
     "output_type": "stream",
     "text": [
      " 42%|█████████████████████████████████▌                                              | 126/300 [04:29<06:05,  2.10s/it]"
     ]
    },
    {
     "name": "stdout",
     "output_type": "stream",
     "text": [
      "Epoch 126, Average Loss: 49.151187896728516\n"
     ]
    },
    {
     "name": "stderr",
     "output_type": "stream",
     "text": [
      " 42%|█████████████████████████████████▊                                              | 127/300 [04:31<06:06,  2.12s/it]"
     ]
    },
    {
     "name": "stdout",
     "output_type": "stream",
     "text": [
      "Epoch 127, Average Loss: 19.52069664001465\n"
     ]
    },
    {
     "name": "stderr",
     "output_type": "stream",
     "text": [
      " 43%|██████████████████████████████████▏                                             | 128/300 [04:33<06:04,  2.12s/it]"
     ]
    },
    {
     "name": "stdout",
     "output_type": "stream",
     "text": [
      "Epoch 128, Average Loss: 19.27023696899414\n"
     ]
    },
    {
     "name": "stderr",
     "output_type": "stream",
     "text": [
      " 43%|██████████████████████████████████▍                                             | 129/300 [04:35<06:01,  2.12s/it]"
     ]
    },
    {
     "name": "stdout",
     "output_type": "stream",
     "text": [
      "Epoch 129, Average Loss: 45.14904022216797\n"
     ]
    },
    {
     "name": "stderr",
     "output_type": "stream",
     "text": [
      " 43%|██████████████████████████████████▋                                             | 130/300 [04:37<05:59,  2.12s/it]"
     ]
    },
    {
     "name": "stdout",
     "output_type": "stream",
     "text": [
      "Epoch 130, Average Loss: 14.359644889831543\n"
     ]
    },
    {
     "name": "stderr",
     "output_type": "stream",
     "text": [
      " 44%|██████████████████████████████████▉                                             | 131/300 [04:40<05:57,  2.12s/it]"
     ]
    },
    {
     "name": "stdout",
     "output_type": "stream",
     "text": [
      "Epoch 131, Average Loss: 15.219379425048828\n"
     ]
    },
    {
     "name": "stderr",
     "output_type": "stream",
     "text": [
      " 44%|███████████████████████████████████▏                                            | 132/300 [04:42<05:54,  2.11s/it]"
     ]
    },
    {
     "name": "stdout",
     "output_type": "stream",
     "text": [
      "Epoch 132, Average Loss: 48.2780876159668\n"
     ]
    },
    {
     "name": "stderr",
     "output_type": "stream",
     "text": [
      " 44%|███████████████████████████████████▍                                            | 133/300 [04:44<05:54,  2.12s/it]"
     ]
    },
    {
     "name": "stdout",
     "output_type": "stream",
     "text": [
      "Epoch 133, Average Loss: 18.60063362121582\n"
     ]
    },
    {
     "name": "stderr",
     "output_type": "stream",
     "text": [
      " 45%|███████████████████████████████████▋                                            | 134/300 [04:46<05:54,  2.13s/it]"
     ]
    },
    {
     "name": "stdout",
     "output_type": "stream",
     "text": [
      "Epoch 134, Average Loss: 16.493417739868164\n"
     ]
    },
    {
     "name": "stderr",
     "output_type": "stream",
     "text": [
      " 45%|████████████████████████████████████                                            | 135/300 [04:48<05:53,  2.14s/it]"
     ]
    },
    {
     "name": "stdout",
     "output_type": "stream",
     "text": [
      "Epoch 135, Average Loss: 33.16415023803711\n"
     ]
    },
    {
     "name": "stderr",
     "output_type": "stream",
     "text": [
      " 45%|████████████████████████████████████▎                                           | 136/300 [04:50<05:49,  2.13s/it]"
     ]
    },
    {
     "name": "stdout",
     "output_type": "stream",
     "text": [
      "Epoch 136, Average Loss: 17.537593841552734\n"
     ]
    },
    {
     "name": "stderr",
     "output_type": "stream",
     "text": [
      " 46%|████████████████████████████████████▌                                           | 137/300 [04:52<05:47,  2.13s/it]"
     ]
    },
    {
     "name": "stdout",
     "output_type": "stream",
     "text": [
      "Epoch 137, Average Loss: 31.706398010253906\n"
     ]
    },
    {
     "name": "stderr",
     "output_type": "stream",
     "text": [
      " 46%|████████████████████████████████████▊                                           | 138/300 [04:55<05:43,  2.12s/it]"
     ]
    },
    {
     "name": "stdout",
     "output_type": "stream",
     "text": [
      "Epoch 138, Average Loss: 26.048673629760742\n"
     ]
    },
    {
     "name": "stderr",
     "output_type": "stream",
     "text": [
      " 46%|█████████████████████████████████████                                           | 139/300 [04:57<05:40,  2.11s/it]"
     ]
    },
    {
     "name": "stdout",
     "output_type": "stream",
     "text": [
      "Epoch 139, Average Loss: 51.50501251220703\n"
     ]
    },
    {
     "name": "stderr",
     "output_type": "stream",
     "text": [
      " 47%|█████████████████████████████████████▎                                          | 140/300 [04:59<05:39,  2.12s/it]"
     ]
    },
    {
     "name": "stdout",
     "output_type": "stream",
     "text": [
      "Epoch 140, Average Loss: 25.83836555480957\n"
     ]
    },
    {
     "name": "stderr",
     "output_type": "stream",
     "text": [
      " 47%|█████████████████████████████████████▌                                          | 141/300 [05:01<05:38,  2.13s/it]"
     ]
    },
    {
     "name": "stdout",
     "output_type": "stream",
     "text": [
      "Epoch 141, Average Loss: 12.444320678710938\n"
     ]
    },
    {
     "name": "stderr",
     "output_type": "stream",
     "text": [
      " 47%|█████████████████████████████████████▊                                          | 142/300 [05:03<05:37,  2.14s/it]"
     ]
    },
    {
     "name": "stdout",
     "output_type": "stream",
     "text": [
      "Epoch 142, Average Loss: 9.214529991149902\n"
     ]
    },
    {
     "name": "stderr",
     "output_type": "stream",
     "text": [
      " 48%|██████████████████████████████████████▏                                         | 143/300 [05:05<05:32,  2.12s/it]"
     ]
    },
    {
     "name": "stdout",
     "output_type": "stream",
     "text": [
      "Epoch 143, Average Loss: 26.25508689880371\n"
     ]
    },
    {
     "name": "stderr",
     "output_type": "stream",
     "text": [
      " 48%|██████████████████████████████████████▍                                         | 144/300 [05:07<05:30,  2.12s/it]"
     ]
    },
    {
     "name": "stdout",
     "output_type": "stream",
     "text": [
      "Epoch 144, Average Loss: 16.077096939086914\n"
     ]
    },
    {
     "name": "stderr",
     "output_type": "stream",
     "text": [
      " 48%|██████████████████████████████████████▋                                         | 145/300 [05:09<05:27,  2.11s/it]"
     ]
    },
    {
     "name": "stdout",
     "output_type": "stream",
     "text": [
      "Epoch 145, Average Loss: 46.40279769897461\n"
     ]
    },
    {
     "name": "stderr",
     "output_type": "stream",
     "text": [
      " 49%|██████████████████████████████████████▉                                         | 146/300 [05:12<05:27,  2.13s/it]"
     ]
    },
    {
     "name": "stdout",
     "output_type": "stream",
     "text": [
      "Epoch 146, Average Loss: 14.534285545349121\n"
     ]
    },
    {
     "name": "stderr",
     "output_type": "stream",
     "text": [
      " 49%|███████████████████████████████████████▏                                        | 147/300 [05:14<05:24,  2.12s/it]"
     ]
    },
    {
     "name": "stdout",
     "output_type": "stream",
     "text": [
      "Epoch 147, Average Loss: 31.948753356933594\n"
     ]
    },
    {
     "name": "stderr",
     "output_type": "stream",
     "text": [
      " 49%|███████████████████████████████████████▍                                        | 148/300 [05:16<05:22,  2.12s/it]"
     ]
    },
    {
     "name": "stdout",
     "output_type": "stream",
     "text": [
      "Epoch 148, Average Loss: 64.34616088867188\n"
     ]
    },
    {
     "name": "stderr",
     "output_type": "stream",
     "text": [
      " 50%|███████████████████████████████████████▋                                        | 149/300 [05:18<05:19,  2.12s/it]"
     ]
    },
    {
     "name": "stdout",
     "output_type": "stream",
     "text": [
      "Epoch 149, Average Loss: 31.460304260253906\n"
     ]
    },
    {
     "name": "stderr",
     "output_type": "stream",
     "text": [
      " 50%|████████████████████████████████████████                                        | 150/300 [05:20<05:19,  2.13s/it]"
     ]
    },
    {
     "name": "stdout",
     "output_type": "stream",
     "text": [
      "Epoch 150, Average Loss: 18.395944595336914\n"
     ]
    },
    {
     "name": "stderr",
     "output_type": "stream",
     "text": [
      " 50%|████████████████████████████████████████▎                                       | 151/300 [05:22<05:17,  2.13s/it]"
     ]
    },
    {
     "name": "stdout",
     "output_type": "stream",
     "text": [
      "Epoch 151, Average Loss: 23.359983444213867\n"
     ]
    },
    {
     "name": "stderr",
     "output_type": "stream",
     "text": [
      " 51%|████████████████████████████████████████▌                                       | 152/300 [05:24<05:13,  2.12s/it]"
     ]
    },
    {
     "name": "stdout",
     "output_type": "stream",
     "text": [
      "Epoch 152, Average Loss: 23.04594612121582\n"
     ]
    },
    {
     "name": "stderr",
     "output_type": "stream",
     "text": [
      " 51%|████████████████████████████████████████▊                                       | 153/300 [05:26<05:09,  2.11s/it]"
     ]
    },
    {
     "name": "stdout",
     "output_type": "stream",
     "text": [
      "Epoch 153, Average Loss: 51.76169967651367\n"
     ]
    },
    {
     "name": "stderr",
     "output_type": "stream",
     "text": [
      " 51%|█████████████████████████████████████████                                       | 154/300 [05:28<05:09,  2.12s/it]"
     ]
    },
    {
     "name": "stdout",
     "output_type": "stream",
     "text": [
      "Epoch 154, Average Loss: 20.401485443115234\n"
     ]
    },
    {
     "name": "stderr",
     "output_type": "stream",
     "text": [
      " 52%|█████████████████████████████████████████▎                                      | 155/300 [05:31<05:08,  2.13s/it]"
     ]
    },
    {
     "name": "stdout",
     "output_type": "stream",
     "text": [
      "Epoch 155, Average Loss: 15.29466724395752\n"
     ]
    },
    {
     "name": "stderr",
     "output_type": "stream",
     "text": [
      " 52%|█████████████████████████████████████████▌                                      | 156/300 [05:33<05:06,  2.13s/it]"
     ]
    },
    {
     "name": "stdout",
     "output_type": "stream",
     "text": [
      "Epoch 156, Average Loss: 38.77589416503906\n"
     ]
    },
    {
     "name": "stderr",
     "output_type": "stream",
     "text": [
      " 52%|█████████████████████████████████████████▊                                      | 157/300 [05:35<05:14,  2.20s/it]"
     ]
    },
    {
     "name": "stdout",
     "output_type": "stream",
     "text": [
      "Epoch 157, Average Loss: 12.512042999267578\n"
     ]
    },
    {
     "name": "stderr",
     "output_type": "stream",
     "text": [
      " 53%|██████████████████████████████████████████▏                                     | 158/300 [05:37<05:11,  2.19s/it]"
     ]
    },
    {
     "name": "stdout",
     "output_type": "stream",
     "text": [
      "Epoch 158, Average Loss: 12.262289047241211\n"
     ]
    },
    {
     "name": "stderr",
     "output_type": "stream",
     "text": [
      " 53%|██████████████████████████████████████████▍                                     | 159/300 [05:39<05:05,  2.17s/it]"
     ]
    },
    {
     "name": "stdout",
     "output_type": "stream",
     "text": [
      "Epoch 159, Average Loss: 35.3964729309082\n"
     ]
    },
    {
     "name": "stderr",
     "output_type": "stream",
     "text": [
      " 53%|██████████████████████████████████████████▋                                     | 160/300 [05:42<05:03,  2.16s/it]"
     ]
    },
    {
     "name": "stdout",
     "output_type": "stream",
     "text": [
      "Epoch 160, Average Loss: 18.005504608154297\n"
     ]
    },
    {
     "name": "stderr",
     "output_type": "stream",
     "text": [
      " 54%|██████████████████████████████████████████▉                                     | 161/300 [05:44<04:58,  2.15s/it]"
     ]
    },
    {
     "name": "stdout",
     "output_type": "stream",
     "text": [
      "Epoch 161, Average Loss: 19.779603958129883\n"
     ]
    },
    {
     "name": "stderr",
     "output_type": "stream",
     "text": [
      " 54%|███████████████████████████████████████████▏                                    | 162/300 [05:46<04:54,  2.14s/it]"
     ]
    },
    {
     "name": "stdout",
     "output_type": "stream",
     "text": [
      "Epoch 162, Average Loss: 16.843900680541992\n"
     ]
    },
    {
     "name": "stderr",
     "output_type": "stream",
     "text": [
      " 54%|███████████████████████████████████████████▍                                    | 163/300 [05:48<04:52,  2.13s/it]"
     ]
    },
    {
     "name": "stdout",
     "output_type": "stream",
     "text": [
      "Epoch 163, Average Loss: 46.64495086669922\n"
     ]
    },
    {
     "name": "stderr",
     "output_type": "stream",
     "text": [
      " 55%|███████████████████████████████████████████▋                                    | 164/300 [05:50<04:51,  2.14s/it]"
     ]
    },
    {
     "name": "stdout",
     "output_type": "stream",
     "text": [
      "Epoch 164, Average Loss: 24.424537658691406\n"
     ]
    },
    {
     "name": "stderr",
     "output_type": "stream",
     "text": [
      " 55%|████████████████████████████████████████████                                    | 165/300 [05:52<04:49,  2.14s/it]"
     ]
    },
    {
     "name": "stdout",
     "output_type": "stream",
     "text": [
      "Epoch 165, Average Loss: 15.828575134277344\n"
     ]
    },
    {
     "name": "stderr",
     "output_type": "stream",
     "text": [
      " 55%|████████████████████████████████████████████▎                                   | 166/300 [05:54<04:44,  2.13s/it]"
     ]
    },
    {
     "name": "stdout",
     "output_type": "stream",
     "text": [
      "Epoch 166, Average Loss: 21.497770309448242\n"
     ]
    },
    {
     "name": "stderr",
     "output_type": "stream",
     "text": [
      " 56%|████████████████████████████████████████████▌                                   | 167/300 [05:56<04:41,  2.11s/it]"
     ]
    },
    {
     "name": "stdout",
     "output_type": "stream",
     "text": [
      "Epoch 167, Average Loss: 68.92986297607422\n"
     ]
    },
    {
     "name": "stderr",
     "output_type": "stream",
     "text": [
      " 56%|████████████████████████████████████████████▊                                   | 168/300 [05:58<04:38,  2.11s/it]"
     ]
    },
    {
     "name": "stdout",
     "output_type": "stream",
     "text": [
      "Epoch 168, Average Loss: 34.98978042602539\n"
     ]
    },
    {
     "name": "stderr",
     "output_type": "stream",
     "text": [
      " 56%|█████████████████████████████████████████████                                   | 169/300 [06:01<04:37,  2.12s/it]"
     ]
    },
    {
     "name": "stdout",
     "output_type": "stream",
     "text": [
      "Epoch 169, Average Loss: 16.533283233642578\n"
     ]
    },
    {
     "name": "stderr",
     "output_type": "stream",
     "text": [
      " 57%|█████████████████████████████████████████████▎                                  | 170/300 [06:03<04:38,  2.14s/it]"
     ]
    },
    {
     "name": "stdout",
     "output_type": "stream",
     "text": [
      "Epoch 170, Average Loss: 13.882609367370605\n"
     ]
    },
    {
     "name": "stderr",
     "output_type": "stream",
     "text": [
      " 57%|█████████████████████████████████████████████▌                                  | 171/300 [06:05<04:35,  2.13s/it]"
     ]
    },
    {
     "name": "stdout",
     "output_type": "stream",
     "text": [
      "Epoch 171, Average Loss: 11.164031028747559\n"
     ]
    },
    {
     "name": "stderr",
     "output_type": "stream",
     "text": [
      " 57%|█████████████████████████████████████████████▊                                  | 172/300 [06:07<04:31,  2.12s/it]"
     ]
    },
    {
     "name": "stdout",
     "output_type": "stream",
     "text": [
      "Epoch 172, Average Loss: 11.508440017700195\n"
     ]
    },
    {
     "name": "stderr",
     "output_type": "stream",
     "text": [
      " 58%|██████████████████████████████████████████████▏                                 | 173/300 [06:09<04:28,  2.11s/it]"
     ]
    },
    {
     "name": "stdout",
     "output_type": "stream",
     "text": [
      "Epoch 173, Average Loss: 29.736919403076172\n"
     ]
    },
    {
     "name": "stderr",
     "output_type": "stream",
     "text": [
      " 58%|██████████████████████████████████████████████▍                                 | 174/300 [06:11<04:26,  2.11s/it]"
     ]
    },
    {
     "name": "stdout",
     "output_type": "stream",
     "text": [
      "Epoch 174, Average Loss: 16.643291473388672\n"
     ]
    },
    {
     "name": "stderr",
     "output_type": "stream",
     "text": [
      " 58%|██████████████████████████████████████████████▋                                 | 175/300 [06:13<04:23,  2.11s/it]"
     ]
    },
    {
     "name": "stdout",
     "output_type": "stream",
     "text": [
      "Epoch 175, Average Loss: 14.257790565490723\n"
     ]
    },
    {
     "name": "stderr",
     "output_type": "stream",
     "text": [
      " 59%|██████████████████████████████████████████████▉                                 | 176/300 [06:15<04:21,  2.11s/it]"
     ]
    },
    {
     "name": "stdout",
     "output_type": "stream",
     "text": [
      "Epoch 176, Average Loss: 11.132558822631836\n"
     ]
    },
    {
     "name": "stderr",
     "output_type": "stream",
     "text": [
      " 59%|███████████████████████████████████████████████▏                                | 177/300 [06:18<04:20,  2.12s/it]"
     ]
    },
    {
     "name": "stdout",
     "output_type": "stream",
     "text": [
      "Epoch 177, Average Loss: 27.61794090270996\n"
     ]
    },
    {
     "name": "stderr",
     "output_type": "stream",
     "text": [
      " 59%|███████████████████████████████████████████████▍                                | 178/300 [06:20<04:18,  2.12s/it]"
     ]
    },
    {
     "name": "stdout",
     "output_type": "stream",
     "text": [
      "Epoch 178, Average Loss: 20.177371978759766\n"
     ]
    },
    {
     "name": "stderr",
     "output_type": "stream",
     "text": [
      " 60%|███████████████████████████████████████████████▋                                | 179/300 [06:22<04:15,  2.11s/it]"
     ]
    },
    {
     "name": "stdout",
     "output_type": "stream",
     "text": [
      "Epoch 179, Average Loss: 30.76557731628418\n"
     ]
    },
    {
     "name": "stderr",
     "output_type": "stream",
     "text": [
      " 60%|████████████████████████████████████████████████                                | 180/300 [06:24<04:16,  2.13s/it]"
     ]
    },
    {
     "name": "stdout",
     "output_type": "stream",
     "text": [
      "Epoch 180, Average Loss: 15.046216011047363\n"
     ]
    },
    {
     "name": "stderr",
     "output_type": "stream",
     "text": [
      " 60%|████████████████████████████████████████████████▎                               | 181/300 [06:26<04:12,  2.12s/it]"
     ]
    },
    {
     "name": "stdout",
     "output_type": "stream",
     "text": [
      "Epoch 181, Average Loss: 40.3408203125\n"
     ]
    },
    {
     "name": "stderr",
     "output_type": "stream",
     "text": [
      " 61%|████████████████████████████████████████████████▌                               | 182/300 [06:28<04:11,  2.13s/it]"
     ]
    },
    {
     "name": "stdout",
     "output_type": "stream",
     "text": [
      "Epoch 182, Average Loss: 24.147624969482422\n"
     ]
    },
    {
     "name": "stderr",
     "output_type": "stream",
     "text": [
      " 61%|████████████████████████████████████████████████▊                               | 183/300 [06:30<04:09,  2.13s/it]"
     ]
    },
    {
     "name": "stdout",
     "output_type": "stream",
     "text": [
      "Epoch 183, Average Loss: 17.64166259765625\n"
     ]
    },
    {
     "name": "stderr",
     "output_type": "stream",
     "text": [
      " 61%|█████████████████████████████████████████████████                               | 184/300 [06:32<04:06,  2.12s/it]"
     ]
    },
    {
     "name": "stdout",
     "output_type": "stream",
     "text": [
      "Epoch 184, Average Loss: 27.74081039428711\n"
     ]
    },
    {
     "name": "stderr",
     "output_type": "stream",
     "text": [
      " 62%|█████████████████████████████████████████████████▎                              | 185/300 [06:35<04:02,  2.11s/it]"
     ]
    },
    {
     "name": "stdout",
     "output_type": "stream",
     "text": [
      "Epoch 185, Average Loss: 64.32186126708984\n"
     ]
    },
    {
     "name": "stderr",
     "output_type": "stream",
     "text": [
      " 62%|█████████████████████████████████████████████████▌                              | 186/300 [06:37<03:59,  2.10s/it]"
     ]
    },
    {
     "name": "stdout",
     "output_type": "stream",
     "text": [
      "Epoch 186, Average Loss: 30.17857551574707\n"
     ]
    },
    {
     "name": "stderr",
     "output_type": "stream",
     "text": [
      " 62%|█████████████████████████████████████████████████▊                              | 187/300 [06:39<03:58,  2.11s/it]"
     ]
    },
    {
     "name": "stdout",
     "output_type": "stream",
     "text": [
      "Epoch 187, Average Loss: 13.96678638458252\n"
     ]
    },
    {
     "name": "stderr",
     "output_type": "stream",
     "text": [
      " 63%|██████████████████████████████████████████████████▏                             | 188/300 [06:41<03:58,  2.13s/it]"
     ]
    },
    {
     "name": "stdout",
     "output_type": "stream",
     "text": [
      "Epoch 188, Average Loss: 13.215070724487305\n"
     ]
    },
    {
     "name": "stderr",
     "output_type": "stream",
     "text": [
      " 63%|██████████████████████████████████████████████████▍                             | 189/300 [06:43<03:56,  2.13s/it]"
     ]
    },
    {
     "name": "stdout",
     "output_type": "stream",
     "text": [
      "Epoch 189, Average Loss: 17.801162719726562\n"
     ]
    },
    {
     "name": "stderr",
     "output_type": "stream",
     "text": [
      " 63%|██████████████████████████████████████████████████▋                             | 190/300 [06:45<03:52,  2.11s/it]"
     ]
    },
    {
     "name": "stdout",
     "output_type": "stream",
     "text": [
      "Epoch 190, Average Loss: 19.306095123291016\n"
     ]
    },
    {
     "name": "stderr",
     "output_type": "stream",
     "text": [
      " 64%|██████████████████████████████████████████████████▉                             | 191/300 [06:47<03:49,  2.10s/it]"
     ]
    },
    {
     "name": "stdout",
     "output_type": "stream",
     "text": [
      "Epoch 191, Average Loss: 57.76612091064453\n"
     ]
    },
    {
     "name": "stderr",
     "output_type": "stream",
     "text": [
      " 64%|███████████████████████████████████████████████████▏                            | 192/300 [06:49<03:47,  2.11s/it]"
     ]
    },
    {
     "name": "stdout",
     "output_type": "stream",
     "text": [
      "Epoch 192, Average Loss: 27.052886962890625\n"
     ]
    },
    {
     "name": "stderr",
     "output_type": "stream",
     "text": [
      " 64%|███████████████████████████████████████████████████▍                            | 193/300 [06:51<03:46,  2.12s/it]"
     ]
    },
    {
     "name": "stdout",
     "output_type": "stream",
     "text": [
      "Epoch 193, Average Loss: 22.782264709472656\n"
     ]
    },
    {
     "name": "stderr",
     "output_type": "stream",
     "text": [
      " 65%|███████████████████████████████████████████████████▋                            | 194/300 [06:54<03:43,  2.11s/it]"
     ]
    },
    {
     "name": "stdout",
     "output_type": "stream",
     "text": [
      "Epoch 194, Average Loss: 44.90445327758789\n"
     ]
    },
    {
     "name": "stderr",
     "output_type": "stream",
     "text": [
      " 65%|████████████████████████████████████████████████████                            | 195/300 [06:56<03:42,  2.12s/it]"
     ]
    },
    {
     "name": "stdout",
     "output_type": "stream",
     "text": [
      "Epoch 195, Average Loss: 17.024789810180664\n"
     ]
    },
    {
     "name": "stderr",
     "output_type": "stream",
     "text": [
      " 65%|████████████████████████████████████████████████████▎                           | 196/300 [06:58<03:39,  2.12s/it]"
     ]
    },
    {
     "name": "stdout",
     "output_type": "stream",
     "text": [
      "Epoch 196, Average Loss: 15.598079681396484\n"
     ]
    },
    {
     "name": "stderr",
     "output_type": "stream",
     "text": [
      " 66%|████████████████████████████████████████████████████▌                           | 197/300 [07:00<03:38,  2.12s/it]"
     ]
    },
    {
     "name": "stdout",
     "output_type": "stream",
     "text": [
      "Epoch 197, Average Loss: 36.54963302612305\n"
     ]
    },
    {
     "name": "stderr",
     "output_type": "stream",
     "text": [
      " 66%|████████████████████████████████████████████████████▊                           | 198/300 [07:02<03:36,  2.12s/it]"
     ]
    },
    {
     "name": "stdout",
     "output_type": "stream",
     "text": [
      "Epoch 198, Average Loss: 14.7929105758667\n"
     ]
    },
    {
     "name": "stderr",
     "output_type": "stream",
     "text": [
      " 66%|█████████████████████████████████████████████████████                           | 199/300 [07:04<03:34,  2.12s/it]"
     ]
    },
    {
     "name": "stdout",
     "output_type": "stream",
     "text": [
      "Epoch 199, Average Loss: 15.6542387008667\n"
     ]
    },
    {
     "name": "stderr",
     "output_type": "stream",
     "text": [
      " 67%|█████████████████████████████████████████████████████▎                          | 200/300 [07:06<03:32,  2.12s/it]"
     ]
    },
    {
     "name": "stdout",
     "output_type": "stream",
     "text": [
      "Epoch 200, Average Loss: 17.99253273010254\n"
     ]
    },
    {
     "name": "stderr",
     "output_type": "stream",
     "text": [
      " 67%|█████████████████████████████████████████████████████▌                          | 201/300 [07:08<03:28,  2.11s/it]"
     ]
    },
    {
     "name": "stdout",
     "output_type": "stream",
     "text": [
      "Epoch 201, Average Loss: 13.882023811340332\n"
     ]
    },
    {
     "name": "stderr",
     "output_type": "stream",
     "text": [
      " 67%|█████████████████████████████████████████████████████▊                          | 202/300 [07:10<03:25,  2.10s/it]"
     ]
    },
    {
     "name": "stdout",
     "output_type": "stream",
     "text": [
      "Epoch 202, Average Loss: 42.95160675048828\n"
     ]
    },
    {
     "name": "stderr",
     "output_type": "stream",
     "text": [
      " 68%|██████████████████████████████████████████████████████▏                         | 203/300 [07:13<03:26,  2.13s/it]"
     ]
    },
    {
     "name": "stdout",
     "output_type": "stream",
     "text": [
      "Epoch 203, Average Loss: 13.397072792053223\n"
     ]
    },
    {
     "name": "stderr",
     "output_type": "stream",
     "text": [
      " 68%|██████████████████████████████████████████████████████▍                         | 204/300 [07:15<03:23,  2.12s/it]"
     ]
    },
    {
     "name": "stdout",
     "output_type": "stream",
     "text": [
      "Epoch 204, Average Loss: 26.985254287719727\n"
     ]
    },
    {
     "name": "stderr",
     "output_type": "stream",
     "text": [
      " 68%|██████████████████████████████████████████████████████▋                         | 205/300 [07:17<03:19,  2.10s/it]"
     ]
    },
    {
     "name": "stdout",
     "output_type": "stream",
     "text": [
      "Epoch 205, Average Loss: 70.0877914428711\n"
     ]
    },
    {
     "name": "stderr",
     "output_type": "stream",
     "text": [
      " 69%|██████████████████████████████████████████████████████▉                         | 206/300 [07:19<03:18,  2.11s/it]"
     ]
    },
    {
     "name": "stdout",
     "output_type": "stream",
     "text": [
      "Epoch 206, Average Loss: 38.4022331237793\n"
     ]
    },
    {
     "name": "stderr",
     "output_type": "stream",
     "text": [
      " 69%|███████████████████████████████████████████████████████▏                        | 207/300 [07:21<03:16,  2.11s/it]"
     ]
    },
    {
     "name": "stdout",
     "output_type": "stream",
     "text": [
      "Epoch 207, Average Loss: 21.92757797241211\n"
     ]
    },
    {
     "name": "stderr",
     "output_type": "stream",
     "text": [
      " 69%|███████████████████████████████████████████████████████▍                        | 208/300 [07:23<03:14,  2.11s/it]"
     ]
    },
    {
     "name": "stdout",
     "output_type": "stream",
     "text": [
      "Epoch 208, Average Loss: 17.211936950683594\n"
     ]
    },
    {
     "name": "stderr",
     "output_type": "stream",
     "text": [
      " 70%|███████████████████████████████████████████████████████▋                        | 209/300 [07:25<03:11,  2.11s/it]"
     ]
    },
    {
     "name": "stdout",
     "output_type": "stream",
     "text": [
      "Epoch 209, Average Loss: 13.029655456542969\n"
     ]
    },
    {
     "name": "stderr",
     "output_type": "stream",
     "text": [
      " 70%|████████████████████████████████████████████████████████                        | 210/300 [07:27<03:10,  2.11s/it]"
     ]
    },
    {
     "name": "stdout",
     "output_type": "stream",
     "text": [
      "Epoch 210, Average Loss: 35.54635238647461\n"
     ]
    },
    {
     "name": "stderr",
     "output_type": "stream",
     "text": [
      " 70%|████████████████████████████████████████████████████████▎                       | 211/300 [07:30<03:10,  2.14s/it]"
     ]
    },
    {
     "name": "stdout",
     "output_type": "stream",
     "text": [
      "Epoch 211, Average Loss: 12.969804763793945\n"
     ]
    },
    {
     "name": "stderr",
     "output_type": "stream",
     "text": [
      " 71%|████████████████████████████████████████████████████████▌                       | 212/300 [07:32<03:07,  2.13s/it]"
     ]
    },
    {
     "name": "stdout",
     "output_type": "stream",
     "text": [
      "Epoch 212, Average Loss: 13.577836990356445\n"
     ]
    },
    {
     "name": "stderr",
     "output_type": "stream",
     "text": [
      " 71%|████████████████████████████████████████████████████████▊                       | 213/300 [07:34<03:04,  2.12s/it]"
     ]
    },
    {
     "name": "stdout",
     "output_type": "stream",
     "text": [
      "Epoch 213, Average Loss: 8.608956336975098\n"
     ]
    },
    {
     "name": "stderr",
     "output_type": "stream",
     "text": [
      " 71%|█████████████████████████████████████████████████████████                       | 214/300 [07:36<03:02,  2.12s/it]"
     ]
    },
    {
     "name": "stdout",
     "output_type": "stream",
     "text": [
      "Epoch 214, Average Loss: 20.52203369140625\n"
     ]
    },
    {
     "name": "stderr",
     "output_type": "stream",
     "text": [
      " 72%|█████████████████████████████████████████████████████████▎                      | 215/300 [07:38<02:59,  2.11s/it]"
     ]
    },
    {
     "name": "stdout",
     "output_type": "stream",
     "text": [
      "Epoch 215, Average Loss: 19.528148651123047\n"
     ]
    },
    {
     "name": "stderr",
     "output_type": "stream",
     "text": [
      " 72%|█████████████████████████████████████████████████████████▌                      | 216/300 [07:40<02:57,  2.11s/it]"
     ]
    },
    {
     "name": "stdout",
     "output_type": "stream",
     "text": [
      "Epoch 216, Average Loss: 58.56092071533203\n"
     ]
    },
    {
     "name": "stderr",
     "output_type": "stream",
     "text": [
      " 72%|█████████████████████████████████████████████████████████▊                      | 217/300 [07:42<02:55,  2.11s/it]"
     ]
    },
    {
     "name": "stdout",
     "output_type": "stream",
     "text": [
      "Epoch 217, Average Loss: 27.96820831298828\n"
     ]
    },
    {
     "name": "stderr",
     "output_type": "stream",
     "text": [
      " 73%|██████████████████████████████████████████████████████████▏                     | 218/300 [07:44<02:55,  2.14s/it]"
     ]
    },
    {
     "name": "stdout",
     "output_type": "stream",
     "text": [
      "Epoch 218, Average Loss: 13.151203155517578\n"
     ]
    },
    {
     "name": "stderr",
     "output_type": "stream",
     "text": [
      " 73%|██████████████████████████████████████████████████████████▍                     | 219/300 [07:47<02:52,  2.13s/it]"
     ]
    },
    {
     "name": "stdout",
     "output_type": "stream",
     "text": [
      "Epoch 219, Average Loss: 10.215998649597168\n"
     ]
    },
    {
     "name": "stderr",
     "output_type": "stream",
     "text": [
      " 73%|██████████████████████████████████████████████████████████▋                     | 220/300 [07:49<02:49,  2.12s/it]"
     ]
    },
    {
     "name": "stdout",
     "output_type": "stream",
     "text": [
      "Epoch 220, Average Loss: 30.75418472290039\n"
     ]
    },
    {
     "name": "stderr",
     "output_type": "stream",
     "text": [
      " 74%|██████████████████████████████████████████████████████████▉                     | 221/300 [07:51<02:47,  2.12s/it]"
     ]
    },
    {
     "name": "stdout",
     "output_type": "stream",
     "text": [
      "Epoch 221, Average Loss: 10.754937171936035\n"
     ]
    },
    {
     "name": "stderr",
     "output_type": "stream",
     "text": [
      " 74%|███████████████████████████████████████████████████████████▏                    | 222/300 [07:53<02:48,  2.16s/it]"
     ]
    },
    {
     "name": "stdout",
     "output_type": "stream",
     "text": [
      "Epoch 222, Average Loss: 18.93937873840332\n"
     ]
    },
    {
     "name": "stderr",
     "output_type": "stream",
     "text": [
      " 74%|███████████████████████████████████████████████████████████▍                    | 223/300 [07:55<02:46,  2.17s/it]"
     ]
    },
    {
     "name": "stdout",
     "output_type": "stream",
     "text": [
      "Epoch 223, Average Loss: 32.113555908203125\n"
     ]
    },
    {
     "name": "stderr",
     "output_type": "stream",
     "text": [
      " 75%|███████████████████████████████████████████████████████████▋                    | 224/300 [07:57<02:43,  2.15s/it]"
     ]
    },
    {
     "name": "stdout",
     "output_type": "stream",
     "text": [
      "Epoch 224, Average Loss: 74.48249053955078\n"
     ]
    },
    {
     "name": "stderr",
     "output_type": "stream",
     "text": [
      " 75%|████████████████████████████████████████████████████████████                    | 225/300 [07:59<02:41,  2.15s/it]"
     ]
    },
    {
     "name": "stdout",
     "output_type": "stream",
     "text": [
      "Epoch 225, Average Loss: 41.94749069213867\n"
     ]
    },
    {
     "name": "stderr",
     "output_type": "stream",
     "text": [
      " 75%|████████████████████████████████████████████████████████████▎                   | 226/300 [08:02<02:40,  2.17s/it]"
     ]
    },
    {
     "name": "stdout",
     "output_type": "stream",
     "text": [
      "Epoch 226, Average Loss: 23.45625877380371\n"
     ]
    },
    {
     "name": "stderr",
     "output_type": "stream",
     "text": [
      " 76%|████████████████████████████████████████████████████████████▌                   | 227/300 [08:04<02:37,  2.15s/it]"
     ]
    },
    {
     "name": "stdout",
     "output_type": "stream",
     "text": [
      "Epoch 227, Average Loss: 17.368804931640625\n"
     ]
    },
    {
     "name": "stderr",
     "output_type": "stream",
     "text": [
      " 76%|████████████████████████████████████████████████████████████▊                   | 228/300 [08:06<02:33,  2.14s/it]"
     ]
    },
    {
     "name": "stdout",
     "output_type": "stream",
     "text": [
      "Epoch 228, Average Loss: 11.112936019897461\n"
     ]
    },
    {
     "name": "stderr",
     "output_type": "stream",
     "text": [
      " 76%|█████████████████████████████████████████████████████████████                   | 229/300 [08:08<02:31,  2.13s/it]"
     ]
    },
    {
     "name": "stdout",
     "output_type": "stream",
     "text": [
      "Epoch 229, Average Loss: 20.769651412963867\n"
     ]
    },
    {
     "name": "stderr",
     "output_type": "stream",
     "text": [
      " 77%|█████████████████████████████████████████████████████████████▎                  | 230/300 [08:10<02:29,  2.13s/it]"
     ]
    },
    {
     "name": "stdout",
     "output_type": "stream",
     "text": [
      "Epoch 230, Average Loss: 25.660219192504883\n"
     ]
    },
    {
     "name": "stderr",
     "output_type": "stream",
     "text": [
      " 77%|█████████████████████████████████████████████████████████████▌                  | 231/300 [08:12<02:25,  2.12s/it]"
     ]
    },
    {
     "name": "stdout",
     "output_type": "stream",
     "text": [
      "Epoch 231, Average Loss: 51.65880584716797\n"
     ]
    },
    {
     "name": "stderr",
     "output_type": "stream",
     "text": [
      " 77%|█████████████████████████████████████████████████████████████▊                  | 232/300 [08:14<02:24,  2.12s/it]"
     ]
    },
    {
     "name": "stdout",
     "output_type": "stream",
     "text": [
      "Epoch 232, Average Loss: 23.72931480407715\n"
     ]
    },
    {
     "name": "stderr",
     "output_type": "stream",
     "text": [
      " 78%|██████████████████████████████████████████████████████████████▏                 | 233/300 [08:16<02:21,  2.12s/it]"
     ]
    },
    {
     "name": "stdout",
     "output_type": "stream",
     "text": [
      "Epoch 233, Average Loss: 11.591336250305176\n"
     ]
    },
    {
     "name": "stderr",
     "output_type": "stream",
     "text": [
      " 78%|██████████████████████████████████████████████████████████████▍                 | 234/300 [08:19<02:19,  2.12s/it]"
     ]
    },
    {
     "name": "stdout",
     "output_type": "stream",
     "text": [
      "Epoch 234, Average Loss: 12.337888717651367\n"
     ]
    },
    {
     "name": "stderr",
     "output_type": "stream",
     "text": [
      " 78%|██████████████████████████████████████████████████████████████▋                 | 235/300 [08:21<02:17,  2.12s/it]"
     ]
    },
    {
     "name": "stdout",
     "output_type": "stream",
     "text": [
      "Epoch 235, Average Loss: 12.404193878173828\n"
     ]
    },
    {
     "name": "stderr",
     "output_type": "stream",
     "text": [
      " 79%|██████████████████████████████████████████████████████████████▉                 | 236/300 [08:23<02:15,  2.11s/it]"
     ]
    },
    {
     "name": "stdout",
     "output_type": "stream",
     "text": [
      "Epoch 236, Average Loss: 44.00822448730469\n"
     ]
    },
    {
     "name": "stderr",
     "output_type": "stream",
     "text": [
      " 79%|███████████████████████████████████████████████████████████████▏                | 237/300 [08:25<02:13,  2.12s/it]"
     ]
    },
    {
     "name": "stdout",
     "output_type": "stream",
     "text": [
      "Epoch 237, Average Loss: 14.4491605758667\n"
     ]
    },
    {
     "name": "stderr",
     "output_type": "stream",
     "text": [
      " 79%|███████████████████████████████████████████████████████████████▍                | 238/300 [08:27<02:10,  2.10s/it]"
     ]
    },
    {
     "name": "stdout",
     "output_type": "stream",
     "text": [
      "Epoch 238, Average Loss: 18.574350357055664\n"
     ]
    },
    {
     "name": "stderr",
     "output_type": "stream",
     "text": [
      " 80%|███████████████████████████████████████████████████████████████▋                | 239/300 [08:29<02:07,  2.09s/it]"
     ]
    },
    {
     "name": "stdout",
     "output_type": "stream",
     "text": [
      "Epoch 239, Average Loss: 55.813045501708984\n"
     ]
    },
    {
     "name": "stderr",
     "output_type": "stream",
     "text": [
      " 80%|████████████████████████████████████████████████████████████████                | 240/300 [08:31<02:05,  2.10s/it]"
     ]
    },
    {
     "name": "stdout",
     "output_type": "stream",
     "text": [
      "Epoch 240, Average Loss: 24.73309326171875\n"
     ]
    },
    {
     "name": "stderr",
     "output_type": "stream",
     "text": [
      " 80%|████████████████████████████████████████████████████████████████▎               | 241/300 [08:33<02:04,  2.11s/it]"
     ]
    },
    {
     "name": "stdout",
     "output_type": "stream",
     "text": [
      "Epoch 241, Average Loss: 12.464882850646973\n"
     ]
    },
    {
     "name": "stderr",
     "output_type": "stream",
     "text": [
      " 81%|████████████████████████████████████████████████████████████████▌               | 242/300 [08:35<02:02,  2.11s/it]"
     ]
    },
    {
     "name": "stdout",
     "output_type": "stream",
     "text": [
      "Epoch 242, Average Loss: 15.76914119720459\n"
     ]
    },
    {
     "name": "stderr",
     "output_type": "stream",
     "text": [
      " 81%|████████████████████████████████████████████████████████████████▊               | 243/300 [08:38<02:00,  2.11s/it]"
     ]
    },
    {
     "name": "stdout",
     "output_type": "stream",
     "text": [
      "Epoch 243, Average Loss: 26.783470153808594\n"
     ]
    },
    {
     "name": "stderr",
     "output_type": "stream",
     "text": [
      " 81%|█████████████████████████████████████████████████████████████████               | 244/300 [08:40<01:57,  2.10s/it]"
     ]
    },
    {
     "name": "stdout",
     "output_type": "stream",
     "text": [
      "Epoch 244, Average Loss: 62.306663513183594\n"
     ]
    },
    {
     "name": "stderr",
     "output_type": "stream",
     "text": [
      " 82%|█████████████████████████████████████████████████████████████████▎              | 245/300 [08:42<01:55,  2.11s/it]"
     ]
    },
    {
     "name": "stdout",
     "output_type": "stream",
     "text": [
      "Epoch 245, Average Loss: 31.201967239379883\n"
     ]
    },
    {
     "name": "stderr",
     "output_type": "stream",
     "text": [
      " 82%|█████████████████████████████████████████████████████████████████▌              | 246/300 [08:44<01:53,  2.11s/it]"
     ]
    },
    {
     "name": "stdout",
     "output_type": "stream",
     "text": [
      "Epoch 246, Average Loss: 15.37040901184082\n"
     ]
    },
    {
     "name": "stderr",
     "output_type": "stream",
     "text": [
      " 82%|█████████████████████████████████████████████████████████████████▊              | 247/300 [08:46<01:52,  2.11s/it]"
     ]
    },
    {
     "name": "stdout",
     "output_type": "stream",
     "text": [
      "Epoch 247, Average Loss: 15.993462562561035\n"
     ]
    },
    {
     "name": "stderr",
     "output_type": "stream",
     "text": [
      " 83%|██████████████████████████████████████████████████████████████████▏             | 248/300 [08:48<01:49,  2.11s/it]"
     ]
    },
    {
     "name": "stdout",
     "output_type": "stream",
     "text": [
      "Epoch 248, Average Loss: 16.603330612182617\n"
     ]
    },
    {
     "name": "stderr",
     "output_type": "stream",
     "text": [
      " 83%|██████████████████████████████████████████████████████████████████▍             | 249/300 [08:50<01:49,  2.15s/it]"
     ]
    },
    {
     "name": "stdout",
     "output_type": "stream",
     "text": [
      "Epoch 249, Average Loss: 14.685708999633789\n"
     ]
    },
    {
     "name": "stderr",
     "output_type": "stream",
     "text": [
      " 83%|██████████████████████████████████████████████████████████████████▋             | 250/300 [08:52<01:46,  2.13s/it]"
     ]
    },
    {
     "name": "stdout",
     "output_type": "stream",
     "text": [
      "Epoch 250, Average Loss: 40.87495422363281\n"
     ]
    },
    {
     "name": "stderr",
     "output_type": "stream",
     "text": [
      " 84%|██████████████████████████████████████████████████████████████████▉             | 251/300 [08:55<01:44,  2.14s/it]"
     ]
    },
    {
     "name": "stdout",
     "output_type": "stream",
     "text": [
      "Epoch 251, Average Loss: 12.594971656799316\n"
     ]
    },
    {
     "name": "stderr",
     "output_type": "stream",
     "text": [
      " 84%|███████████████████████████████████████████████████████████████████▏            | 252/300 [08:57<01:41,  2.12s/it]"
     ]
    },
    {
     "name": "stdout",
     "output_type": "stream",
     "text": [
      "Epoch 252, Average Loss: 13.757363319396973\n"
     ]
    },
    {
     "name": "stderr",
     "output_type": "stream",
     "text": [
      " 84%|███████████████████████████████████████████████████████████████████▍            | 253/300 [08:59<01:40,  2.13s/it]"
     ]
    },
    {
     "name": "stdout",
     "output_type": "stream",
     "text": [
      "Epoch 253, Average Loss: 27.866287231445312\n"
     ]
    },
    {
     "name": "stderr",
     "output_type": "stream",
     "text": [
      " 85%|███████████████████████████████████████████████████████████████████▋            | 254/300 [09:01<01:37,  2.12s/it]"
     ]
    },
    {
     "name": "stdout",
     "output_type": "stream",
     "text": [
      "Epoch 254, Average Loss: 9.776764869689941\n"
     ]
    },
    {
     "name": "stderr",
     "output_type": "stream",
     "text": [
      " 85%|████████████████████████████████████████████████████████████████████            | 255/300 [09:03<01:35,  2.12s/it]"
     ]
    },
    {
     "name": "stdout",
     "output_type": "stream",
     "text": [
      "Epoch 255, Average Loss: 25.893163681030273\n"
     ]
    },
    {
     "name": "stderr",
     "output_type": "stream",
     "text": [
      " 85%|████████████████████████████████████████████████████████████████████▎           | 256/300 [09:05<01:32,  2.11s/it]"
     ]
    },
    {
     "name": "stdout",
     "output_type": "stream",
     "text": [
      "Epoch 256, Average Loss: 14.820816040039062\n"
     ]
    },
    {
     "name": "stderr",
     "output_type": "stream",
     "text": [
      " 86%|████████████████████████████████████████████████████████████████████▌           | 257/300 [09:07<01:30,  2.11s/it]"
     ]
    },
    {
     "name": "stdout",
     "output_type": "stream",
     "text": [
      "Epoch 257, Average Loss: 14.648056030273438\n"
     ]
    },
    {
     "name": "stderr",
     "output_type": "stream",
     "text": [
      " 86%|████████████████████████████████████████████████████████████████████▊           | 258/300 [09:09<01:28,  2.11s/it]"
     ]
    },
    {
     "name": "stdout",
     "output_type": "stream",
     "text": [
      "Epoch 258, Average Loss: 14.917364120483398\n"
     ]
    },
    {
     "name": "stderr",
     "output_type": "stream",
     "text": [
      " 86%|█████████████████████████████████████████████████████████████████████           | 259/300 [09:11<01:26,  2.10s/it]"
     ]
    },
    {
     "name": "stdout",
     "output_type": "stream",
     "text": [
      "Epoch 259, Average Loss: 44.7028694152832\n"
     ]
    },
    {
     "name": "stderr",
     "output_type": "stream",
     "text": [
      " 87%|█████████████████████████████████████████████████████████████████████▎          | 260/300 [09:14<01:24,  2.11s/it]"
     ]
    },
    {
     "name": "stdout",
     "output_type": "stream",
     "text": [
      "Epoch 260, Average Loss: 22.809593200683594\n"
     ]
    },
    {
     "name": "stderr",
     "output_type": "stream",
     "text": [
      " 87%|█████████████████████████████████████████████████████████████████████▌          | 261/300 [09:16<01:22,  2.12s/it]"
     ]
    },
    {
     "name": "stdout",
     "output_type": "stream",
     "text": [
      "Epoch 261, Average Loss: 13.835192680358887\n"
     ]
    },
    {
     "name": "stderr",
     "output_type": "stream",
     "text": [
      " 87%|█████████████████████████████████████████████████████████████████████▊          | 262/300 [09:18<01:20,  2.11s/it]"
     ]
    },
    {
     "name": "stdout",
     "output_type": "stream",
     "text": [
      "Epoch 262, Average Loss: 21.706480026245117\n"
     ]
    },
    {
     "name": "stderr",
     "output_type": "stream",
     "text": [
      " 88%|██████████████████████████████████████████████████████████████████████▏         | 263/300 [09:20<01:17,  2.11s/it]"
     ]
    },
    {
     "name": "stdout",
     "output_type": "stream",
     "text": [
      "Epoch 263, Average Loss: 62.69253921508789\n"
     ]
    },
    {
     "name": "stderr",
     "output_type": "stream",
     "text": [
      " 88%|██████████████████████████████████████████████████████████████████████▍         | 264/300 [09:22<01:15,  2.11s/it]"
     ]
    },
    {
     "name": "stdout",
     "output_type": "stream",
     "text": [
      "Epoch 264, Average Loss: 29.910219192504883\n"
     ]
    },
    {
     "name": "stderr",
     "output_type": "stream",
     "text": [
      " 88%|██████████████████████████████████████████████████████████████████████▋         | 265/300 [09:24<01:14,  2.12s/it]"
     ]
    },
    {
     "name": "stdout",
     "output_type": "stream",
     "text": [
      "Epoch 265, Average Loss: 18.8353214263916\n"
     ]
    },
    {
     "name": "stderr",
     "output_type": "stream",
     "text": [
      " 89%|██████████████████████████████████████████████████████████████████████▉         | 266/300 [09:26<01:11,  2.11s/it]"
     ]
    },
    {
     "name": "stdout",
     "output_type": "stream",
     "text": [
      "Epoch 266, Average Loss: 28.975561141967773\n"
     ]
    },
    {
     "name": "stderr",
     "output_type": "stream",
     "text": [
      " 89%|███████████████████████████████████████████████████████████████████████▏        | 267/300 [09:28<01:09,  2.10s/it]"
     ]
    },
    {
     "name": "stdout",
     "output_type": "stream",
     "text": [
      "Epoch 267, Average Loss: 13.196025848388672\n"
     ]
    },
    {
     "name": "stderr",
     "output_type": "stream",
     "text": [
      " 89%|███████████████████████████████████████████████████████████████████████▍        | 268/300 [09:30<01:07,  2.11s/it]"
     ]
    },
    {
     "name": "stdout",
     "output_type": "stream",
     "text": [
      "Epoch 268, Average Loss: 29.365949630737305\n"
     ]
    },
    {
     "name": "stderr",
     "output_type": "stream",
     "text": [
      " 90%|███████████████████████████████████████████████████████████████████████▋        | 269/300 [09:32<01:05,  2.11s/it]"
     ]
    },
    {
     "name": "stdout",
     "output_type": "stream",
     "text": [
      "Epoch 269, Average Loss: 15.613346099853516\n"
     ]
    },
    {
     "name": "stderr",
     "output_type": "stream",
     "text": [
      " 90%|████████████████████████████████████████████████████████████████████████        | 270/300 [09:35<01:03,  2.11s/it]"
     ]
    },
    {
     "name": "stdout",
     "output_type": "stream",
     "text": [
      "Epoch 270, Average Loss: 15.873617172241211\n"
     ]
    },
    {
     "name": "stderr",
     "output_type": "stream",
     "text": [
      " 90%|████████████████████████████████████████████████████████████████████████▎       | 271/300 [09:37<01:01,  2.11s/it]"
     ]
    },
    {
     "name": "stdout",
     "output_type": "stream",
     "text": [
      "Epoch 271, Average Loss: 12.596230506896973\n"
     ]
    },
    {
     "name": "stderr",
     "output_type": "stream",
     "text": [
      " 91%|████████████████████████████████████████████████████████████████████████▌       | 272/300 [09:39<00:59,  2.11s/it]"
     ]
    },
    {
     "name": "stdout",
     "output_type": "stream",
     "text": [
      "Epoch 272, Average Loss: 28.63588523864746\n"
     ]
    },
    {
     "name": "stderr",
     "output_type": "stream",
     "text": [
      " 91%|████████████████████████████████████████████████████████████████████████▊       | 273/300 [09:41<00:57,  2.13s/it]"
     ]
    },
    {
     "name": "stdout",
     "output_type": "stream",
     "text": [
      "Epoch 273, Average Loss: 17.24547004699707\n"
     ]
    },
    {
     "name": "stderr",
     "output_type": "stream",
     "text": [
      " 91%|█████████████████████████████████████████████████████████████████████████       | 274/300 [09:43<00:55,  2.15s/it]"
     ]
    },
    {
     "name": "stdout",
     "output_type": "stream",
     "text": [
      "Epoch 274, Average Loss: 15.489261627197266\n"
     ]
    },
    {
     "name": "stderr",
     "output_type": "stream",
     "text": [
      " 92%|█████████████████████████████████████████████████████████████████████████▎      | 275/300 [09:45<00:53,  2.13s/it]"
     ]
    },
    {
     "name": "stdout",
     "output_type": "stream",
     "text": [
      "Epoch 275, Average Loss: 27.468786239624023\n"
     ]
    },
    {
     "name": "stderr",
     "output_type": "stream",
     "text": [
      " 92%|█████████████████████████████████████████████████████████████████████████▌      | 276/300 [09:47<00:50,  2.11s/it]"
     ]
    },
    {
     "name": "stdout",
     "output_type": "stream",
     "text": [
      "Epoch 276, Average Loss: 54.29584884643555\n"
     ]
    },
    {
     "name": "stderr",
     "output_type": "stream",
     "text": [
      " 92%|█████████████████████████████████████████████████████████████████████████▊      | 277/300 [09:49<00:48,  2.12s/it]"
     ]
    },
    {
     "name": "stdout",
     "output_type": "stream",
     "text": [
      "Epoch 277, Average Loss: 29.053556442260742\n"
     ]
    },
    {
     "name": "stderr",
     "output_type": "stream",
     "text": [
      " 93%|██████████████████████████████████████████████████████████████████████████▏     | 278/300 [09:52<00:46,  2.12s/it]"
     ]
    },
    {
     "name": "stdout",
     "output_type": "stream",
     "text": [
      "Epoch 278, Average Loss: 14.623465538024902\n"
     ]
    },
    {
     "name": "stderr",
     "output_type": "stream",
     "text": [
      " 93%|██████████████████████████████████████████████████████████████████████████▍     | 279/300 [09:54<00:44,  2.11s/it]"
     ]
    },
    {
     "name": "stdout",
     "output_type": "stream",
     "text": [
      "Epoch 279, Average Loss: 17.345497131347656\n"
     ]
    },
    {
     "name": "stderr",
     "output_type": "stream",
     "text": [
      " 93%|██████████████████████████████████████████████████████████████████████████▋     | 280/300 [09:56<00:42,  2.10s/it]"
     ]
    },
    {
     "name": "stdout",
     "output_type": "stream",
     "text": [
      "Epoch 280, Average Loss: 37.209075927734375\n"
     ]
    },
    {
     "name": "stderr",
     "output_type": "stream",
     "text": [
      " 94%|██████████████████████████████████████████████████████████████████████████▉     | 281/300 [09:58<00:40,  2.11s/it]"
     ]
    },
    {
     "name": "stdout",
     "output_type": "stream",
     "text": [
      "Epoch 281, Average Loss: 11.616952896118164\n"
     ]
    },
    {
     "name": "stderr",
     "output_type": "stream",
     "text": [
      " 94%|███████████████████████████████████████████████████████████████████████████▏    | 282/300 [10:00<00:37,  2.11s/it]"
     ]
    },
    {
     "name": "stdout",
     "output_type": "stream",
     "text": [
      "Epoch 282, Average Loss: 9.647871017456055\n"
     ]
    },
    {
     "name": "stderr",
     "output_type": "stream",
     "text": [
      " 94%|███████████████████████████████████████████████████████████████████████████▍    | 283/300 [10:02<00:36,  2.12s/it]"
     ]
    },
    {
     "name": "stdout",
     "output_type": "stream",
     "text": [
      "Epoch 283, Average Loss: 19.021791458129883\n"
     ]
    },
    {
     "name": "stderr",
     "output_type": "stream",
     "text": [
      " 95%|███████████████████████████████████████████████████████████████████████████▋    | 284/300 [10:04<00:33,  2.11s/it]"
     ]
    },
    {
     "name": "stdout",
     "output_type": "stream",
     "text": [
      "Epoch 284, Average Loss: 16.67424774169922\n"
     ]
    },
    {
     "name": "stderr",
     "output_type": "stream",
     "text": [
      " 95%|████████████████████████████████████████████████████████████████████████████    | 285/300 [10:06<00:31,  2.10s/it]"
     ]
    },
    {
     "name": "stdout",
     "output_type": "stream",
     "text": [
      "Epoch 285, Average Loss: 51.823265075683594\n"
     ]
    },
    {
     "name": "stderr",
     "output_type": "stream",
     "text": [
      " 95%|████████████████████████████████████████████████████████████████████████████▎   | 286/300 [10:09<00:29,  2.14s/it]"
     ]
    },
    {
     "name": "stdout",
     "output_type": "stream",
     "text": [
      "Epoch 286, Average Loss: 20.551897048950195\n"
     ]
    },
    {
     "name": "stderr",
     "output_type": "stream",
     "text": [
      " 96%|████████████████████████████████████████████████████████████████████████████▌   | 287/300 [10:11<00:27,  2.14s/it]"
     ]
    },
    {
     "name": "stdout",
     "output_type": "stream",
     "text": [
      "Epoch 287, Average Loss: 12.375589370727539\n"
     ]
    },
    {
     "name": "stderr",
     "output_type": "stream",
     "text": [
      " 96%|████████████████████████████████████████████████████████████████████████████▊   | 288/300 [10:13<00:25,  2.14s/it]"
     ]
    },
    {
     "name": "stdout",
     "output_type": "stream",
     "text": [
      "Epoch 288, Average Loss: 25.326295852661133\n"
     ]
    },
    {
     "name": "stderr",
     "output_type": "stream",
     "text": [
      " 96%|█████████████████████████████████████████████████████████████████████████████   | 289/300 [10:15<00:23,  2.13s/it]"
     ]
    },
    {
     "name": "stdout",
     "output_type": "stream",
     "text": [
      "Epoch 289, Average Loss: 12.364370346069336\n"
     ]
    },
    {
     "name": "stderr",
     "output_type": "stream",
     "text": [
      " 97%|█████████████████████████████████████████████████████████████████████████████▎  | 290/300 [10:17<00:21,  2.13s/it]"
     ]
    },
    {
     "name": "stdout",
     "output_type": "stream",
     "text": [
      "Epoch 290, Average Loss: 40.41383361816406\n"
     ]
    },
    {
     "name": "stderr",
     "output_type": "stream",
     "text": [
      " 97%|█████████████████████████████████████████████████████████████████████████████▌  | 291/300 [10:19<00:19,  2.12s/it]"
     ]
    },
    {
     "name": "stdout",
     "output_type": "stream",
     "text": [
      "Epoch 291, Average Loss: 21.672372817993164\n"
     ]
    },
    {
     "name": "stderr",
     "output_type": "stream",
     "text": [
      " 97%|█████████████████████████████████████████████████████████████████████████████▊  | 292/300 [10:21<00:17,  2.13s/it]"
     ]
    },
    {
     "name": "stdout",
     "output_type": "stream",
     "text": [
      "Epoch 292, Average Loss: 14.15453815460205\n"
     ]
    },
    {
     "name": "stderr",
     "output_type": "stream",
     "text": [
      " 98%|██████████████████████████████████████████████████████████████████████████████▏ | 293/300 [10:23<00:14,  2.12s/it]"
     ]
    },
    {
     "name": "stdout",
     "output_type": "stream",
     "text": [
      "Epoch 293, Average Loss: 21.85744857788086\n"
     ]
    },
    {
     "name": "stderr",
     "output_type": "stream",
     "text": [
      " 98%|██████████████████████████████████████████████████████████████████████████████▍ | 294/300 [10:25<00:12,  2.11s/it]"
     ]
    },
    {
     "name": "stdout",
     "output_type": "stream",
     "text": [
      "Epoch 294, Average Loss: 55.34659957885742\n"
     ]
    },
    {
     "name": "stderr",
     "output_type": "stream",
     "text": [
      " 98%|██████████████████████████████████████████████████████████████████████████████▋ | 295/300 [10:28<00:10,  2.11s/it]"
     ]
    },
    {
     "name": "stdout",
     "output_type": "stream",
     "text": [
      "Epoch 295, Average Loss: 25.892623901367188\n"
     ]
    },
    {
     "name": "stderr",
     "output_type": "stream",
     "text": [
      " 99%|██████████████████████████████████████████████████████████████████████████████▉ | 296/300 [10:30<00:08,  2.11s/it]"
     ]
    },
    {
     "name": "stdout",
     "output_type": "stream",
     "text": [
      "Epoch 296, Average Loss: 12.472947120666504\n"
     ]
    },
    {
     "name": "stderr",
     "output_type": "stream",
     "text": [
      " 99%|███████████████████████████████████████████████████████████████████████████████▏| 297/300 [10:32<00:06,  2.14s/it]"
     ]
    },
    {
     "name": "stdout",
     "output_type": "stream",
     "text": [
      "Epoch 297, Average Loss: 10.52787971496582\n"
     ]
    },
    {
     "name": "stderr",
     "output_type": "stream",
     "text": [
      " 99%|███████████████████████████████████████████████████████████████████████████████▍| 298/300 [10:34<00:04,  2.12s/it]"
     ]
    },
    {
     "name": "stdout",
     "output_type": "stream",
     "text": [
      "Epoch 298, Average Loss: 10.980658531188965\n"
     ]
    },
    {
     "name": "stderr",
     "output_type": "stream",
     "text": [
      "100%|███████████████████████████████████████████████████████████████████████████████▋| 299/300 [10:36<00:02,  2.12s/it]"
     ]
    },
    {
     "name": "stdout",
     "output_type": "stream",
     "text": [
      "Epoch 299, Average Loss: 32.19925308227539\n"
     ]
    },
    {
     "name": "stderr",
     "output_type": "stream",
     "text": [
      "100%|████████████████████████████████████████████████████████████████████████████████| 300/300 [10:38<00:00,  2.13s/it]"
     ]
    },
    {
     "name": "stdout",
     "output_type": "stream",
     "text": [
      "Epoch 300, Average Loss: 9.848219871520996\n"
     ]
    },
    {
     "name": "stderr",
     "output_type": "stream",
     "text": [
      "\n"
     ]
    }
   ],
   "source": [
    "# Цикл обучения\n",
    "for epoch in tqdm(range(300)):\n",
    "    model.train()\n",
    "    optimizer.zero_grad()\n",
    "    \n",
    "    losses = []\n",
    "    \n",
    "    for sentence, tags in zip(training_data_sentences, training_data_tags):\n",
    "        # Передаем каждую последовательность по отдельности\n",
    "        y_predicted = model(sentence[0].reshape(1, -1))  # Переход в размерность [1, L]\n",
    "        \n",
    "        # Меняем размерность y_predicted для функции потерь\n",
    "        y_predicted = y_predicted.permute(1, 0, 2)  # [L, 1, tagset_size]\n",
    "        loss_input = y_predicted.reshape(-1, len(tag_to_ix))  # [L, tagset_size]\n",
    "        loss_target = tags[0].reshape(-1)  # [L]\n",
    "        \n",
    "        loss = loss_function(loss_input, loss_target)  \n",
    "        losses.append(loss)\n",
    "        \n",
    "        loss.backward()\n",
    "        \n",
    "    # Оптимизируем веса\n",
    "    optimizer.step()\n",
    "    \n",
    "    # Среднее значение потерь за epoch\n",
    "    if epoch % 1 == 0:\n",
    "        print(f\"Epoch {epoch + 1}, Average Loss: {sum(losses) / len(losses)}\")"
   ]
  },
  {
   "cell_type": "markdown",
   "metadata": {
    "id": "Dgp0MceljVVC"
   },
   "source": [
    "# Inference\n",
    "Предскажите метки для слов из первого предложения."
   ]
  },
  {
   "cell_type": "code",
   "execution_count": 276,
   "metadata": {},
   "outputs": [],
   "source": [
    "test_data_sentences = [[torch.Tensor([word_to_ix[w] for w in x[0]]).long()] for x in test_data]"
   ]
  },
  {
   "cell_type": "code",
   "execution_count": 277,
   "metadata": {
    "id": "FxYeVqwdjVVC"
   },
   "outputs": [
    {
     "name": "stdout",
     "output_type": "stream",
     "text": [
      "['meanwhile', ',', 'though', 'windows', '8', 'is', 'significantly', 'at', 'greater', 'risk', '(', '1', '.', '73', 'percent', ')', 'compared', 'to', 'windows', '8', '.', '1', ',', 'according', 'to', 'redmond', \"'\", 's', 'report', ',', 'it', \"'\", 's', 'still', 'significantly', 'safer', 'than', 'windows', '7', ',', 'windows', 'xp', ',', 'or', 'windows', 'vista', '.']\n",
      "['B-Object', 'O', 'O', 'B-Object', 'B-Object', 'B-Object', 'B-Object', 'B-Object', 'O', 'O', 'O', 'O', 'O', 'O', 'O', 'B-Object', 'O', 'B-Object', 'B-Object', 'B-Object', 'O', 'O', 'O', 'B-Object', 'B-Object', 'O', 'O', 'B-Object', 'O', 'O', 'O', 'O', 'B-Object', 'O', 'B-Object', 'O', 'O', 'B-Object', 'B-Aspect', 'O', 'B-Object', 'O', 'O', 'B-Aspect', 'B-Object', 'O', 'O']\n"
     ]
    }
   ],
   "source": [
    "with torch.no_grad():\n",
    "    # YOUR CODE HERE\n",
    "    print(test_data[0][0])\n",
    "    pred = model(test_data_sentences[0][0].reshape(1, -1))\n",
    "    pred_class = pred.argmax(dim=2)[0]\n",
    "    print([idx_to_tag[x.item()] for x in pred_class])"
   ]
  },
  {
   "cell_type": "markdown",
   "metadata": {
    "id": "yL3VSMUX9Kqs"
   },
   "source": [
    "Предскажите метки для слов из десятого предложения."
   ]
  },
  {
   "cell_type": "code",
   "execution_count": 253,
   "metadata": {
    "id": "LarAmbAa9GPF"
   },
   "outputs": [
    {
     "name": "stdout",
     "output_type": "stream",
     "text": [
      "['however', ',', 'we', \"'\", 're', 'sure', 'at', 'least', 'on', 'one', 'point', 'now', 'that', 'the', 'new', 'windows', '8', 'password', 'features', 'won', \"'\", 't', 'make', 'windows', '8', 'password', 'safer', 'than', 'the', 'traditional', 'text', 'password', 'in', 'windows', 'xp', '.']\n",
      "['O', 'O', 'O', 'O', 'O', 'O', 'O', 'O', 'O', 'O', 'O', 'O', 'O', 'O', 'O', 'O', 'O', 'O', 'O', 'O', 'O', 'O', 'O', 'O', 'O', 'O', 'B-Predicate', 'O', 'O', 'O', 'O', 'O', 'O', 'O', 'B-Object', 'O']\n"
     ]
    }
   ],
   "source": [
    "with torch.no_grad():\n",
    "    # YOUR CODE HERE\n",
    "    print(test_data[9][0][:])\n",
    "    pred = model(test_data_sentences[9][0].reshape(1, -1))\n",
    "    pred_class = pred.argmax(dim=2)[0]\n",
    "    print([idx_to_tag[x.item()] for x in pred_class][:])"
   ]
  },
  {
   "cell_type": "markdown",
   "metadata": {
    "id": "iUH0T10j9MWQ"
   },
   "source": [
    "Предскажите метки для слов из сотого предложения."
   ]
  },
  {
   "cell_type": "code",
   "execution_count": 254,
   "metadata": {
    "id": "CfLiquQb9Csk"
   },
   "outputs": [
    {
     "name": "stdout",
     "output_type": "stream",
     "text": [
      "['fyi', '-', 'i', 'like', 'my', 'ipad', 'but', 'usually', 'only', 'use', 'it', 'when', 'i', \"'\", 'm', 'traveling', 'since', 'its', 'so', 'much', 'lighter', 'to', 'carry', 'around', 'than', 'a', 'laptop', 'and', 'way', 'easier', 'to', 'read', 'than', 'my', 'phone', '.']\n",
      "['O', 'O', 'O', 'O', 'O', 'O', 'O', 'O', 'O', 'B-Aspect', 'O', 'O', 'O', 'O', 'O', 'O', 'O', 'O', 'O', 'O', 'B-Predicate', 'O', 'O', 'O', 'O', 'O', 'O', 'O', 'O', 'B-Predicate', 'O', 'B-Aspect', 'O', 'O', 'O', 'O']\n"
     ]
    }
   ],
   "source": [
    "with torch.no_grad():\n",
    "    # YOUR CODE HERE\n",
    "    print(test_data[100][0])\n",
    "    pred = model(test_data_sentences[100][0].reshape(1, -1))\n",
    "    pred_class = pred.argmax(dim=2)[0]\n",
    "    print([idx_to_tag[x.item()] for x in pred_class])"
   ]
  },
  {
   "cell_type": "markdown",
   "metadata": {
    "id": "gPIv233-jPtj"
   },
   "source": [
    "Сохраните результаты предсказания на тестовом наборе (`test_data`) в файл, запустив код ниже."
   ]
  },
  {
   "cell_type": "code",
   "execution_count": 255,
   "metadata": {
    "id": "fz7osROSjVVD"
   },
   "outputs": [
    {
     "name": "stderr",
     "output_type": "stream",
     "text": [
      "100%|██████████████████████████████████████████████████████████████████████████████| 283/283 [00:00<00:00, 1957.17it/s]\n"
     ]
    }
   ],
   "source": [
    "with open(\"out_test.tsv\", \"w\") as w:\n",
    "    with torch.no_grad():\n",
    "        for sentence in tqdm(test_data):\n",
    "            inputs = prepare_sequence(sentence[0], word_to_ix)\n",
    "            tag_scores = model(inputs.reshape(1, -1))\n",
    "            tags = [idx_to_tag[int(i.item())] for i in tag_scores.argmax(dim=-1)[0]]\n",
    "            for i, y in zip(sentence[0], tags):\n",
    "                w.write(f\"{i}\\t{y}\\n\")\n",
    "            w.write(\"\\n\")"
   ]
  },
  {
   "cell_type": "markdown",
   "metadata": {
    "id": "2KHcgCVgH1B5"
   },
   "source": [
    "Файл `test.tsv` содержит разметку тестовых данных. Сравните файлы построчно, запустив код ниже. Сколько суммарно меток было предсказано верно (то есть сколько строк совпало)?"
   ]
  },
  {
   "cell_type": "code",
   "execution_count": 256,
   "metadata": {
    "id": "BXOaAmKLjft5"
   },
   "outputs": [
    {
     "name": "stderr",
     "output_type": "stream",
     "text": [
      "\"gdown\" ­Ґ пў«пҐвбп ў­гваҐ­­Ґ© Ё«Ё ў­Ґи­Ґ©\n",
      "Є®¬ ­¤®©, ЁбЇ®«­пҐ¬®© Їа®Ја ¬¬®© Ё«Ё Ї ЄҐв­л¬ д ©«®¬.\n"
     ]
    }
   ],
   "source": [
    "!gdown 1mUtlDtb7naXDi1U8x73UdyncnHv1BOjd"
   ]
  },
  {
   "cell_type": "code",
   "execution_count": 257,
   "metadata": {
    "id": "8rnMnOHjjVVD"
   },
   "outputs": [
    {
     "name": "stdout",
     "output_type": "stream",
     "text": [
      "7290\n"
     ]
    }
   ],
   "source": [
    "points = 0\n",
    "with open(\"test.tsv\", \"r\") as f_eval, open(\"out_test.tsv\", \"r\") as f:\n",
    "  for line_eval, line in zip(f_eval.readlines(), f.readlines()):\n",
    "    if line_eval == line: points += 1\n",
    "print(points)"
   ]
  },
  {
   "cell_type": "code",
   "execution_count": null,
   "metadata": {
    "id": "51qugWgyk5pL"
   },
   "outputs": [],
   "source": []
  }
 ],
 "metadata": {
  "colab": {
   "provenance": []
  },
  "kernelspec": {
   "display_name": "Python 3 (ipykernel)",
   "language": "python",
   "name": "python3"
  },
  "language_info": {
   "codemirror_mode": {
    "name": "ipython",
    "version": 3
   },
   "file_extension": ".py",
   "mimetype": "text/x-python",
   "name": "python",
   "nbconvert_exporter": "python",
   "pygments_lexer": "ipython3",
   "version": "3.9.7"
  }
 },
 "nbformat": 4,
 "nbformat_minor": 4
}
